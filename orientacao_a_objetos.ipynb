{
  "nbformat": 4,
  "nbformat_minor": 0,
  "metadata": {
    "colab": {
      "name": "orientacao_a_objetos.ipynb",
      "provenance": [],
      "authorship_tag": "ABX9TyPszlzwWLuxJSo54cuLiaUL",
      "include_colab_link": true
    },
    "kernelspec": {
      "name": "python3",
      "display_name": "Python 3"
    },
    "language_info": {
      "name": "python"
    }
  },
  "cells": [
    {
      "cell_type": "markdown",
      "metadata": {
        "id": "view-in-github",
        "colab_type": "text"
      },
      "source": [
        "<a href=\"https://colab.research.google.com/github/jairpaulino/python_treinamento/blob/main/orientacao_a_objetos.ipynb\" target=\"_parent\"><img src=\"https://colab.research.google.com/assets/colab-badge.svg\" alt=\"Open In Colab\"/></a>"
      ]
    },
    {
      "cell_type": "markdown",
      "metadata": {
        "id": "VHOQc_3gm_eI"
      },
      "source": [
        "**Exercícios 10**: Orientação a objetos"
      ]
    },
    {
      "cell_type": "code",
      "metadata": {
        "id": "nb64ymaXmyMi"
      },
      "source": [
        "class Triangulo:\n",
        "  def __init__(self, lado1, lado2, lado3, base, altura):\n",
        "    self.lado1 = lado1\n",
        "    self.lado2 = lado2\n",
        "    self.lado3 = lado3\n",
        "    self.base = base\n",
        "    self.altura = altura\n",
        "  \n",
        "  def area(self):\n",
        "    return (self.base * self.altura)/2\n",
        "\n",
        "  def tipo(self):\n",
        "    if self.lado1 > self.lado2 + self.lado3:\n",
        "      return 'não é triângulo'\n",
        "    elif self.lado1 == self.lado2 or self.lado1 == self.lado3 or self.lado2 == self.lado3:\n",
        "      return 'Triângulo isóceles'\n",
        "    else:\n",
        "      return 'Outro tipo de triângulo'\n"
      ],
      "execution_count": 22,
      "outputs": []
    },
    {
      "cell_type": "code",
      "metadata": {
        "id": "xAZdotxGm_Qt"
      },
      "source": [
        "t1 = Triangulo(6, 1, 3, 4, 3)"
      ],
      "execution_count": 28,
      "outputs": []
    },
    {
      "cell_type": "code",
      "metadata": {
        "colab": {
          "base_uri": "https://localhost:8080/"
        },
        "id": "uRUSPxAqpJjH",
        "outputId": "fc1bf231-786f-45eb-c6a9-9f3d53464cef"
      },
      "source": [
        "print(t1.lado1, t1.lado2, t1.lado3, t1.base, t1.altura)"
      ],
      "execution_count": 18,
      "outputs": [
        {
          "output_type": "stream",
          "text": [
            "2 1 3 4 3\n"
          ],
          "name": "stdout"
        }
      ]
    },
    {
      "cell_type": "code",
      "metadata": {
        "colab": {
          "base_uri": "https://localhost:8080/"
        },
        "id": "RASLqZs4p1fB",
        "outputId": "14f6ed94-2bbf-44a7-9eb9-0c1c5f497ea0"
      },
      "source": [
        "t1.area()"
      ],
      "execution_count": 20,
      "outputs": [
        {
          "output_type": "execute_result",
          "data": {
            "text/plain": [
              "6.0"
            ]
          },
          "metadata": {
            "tags": []
          },
          "execution_count": 20
        }
      ]
    },
    {
      "cell_type": "code",
      "metadata": {
        "colab": {
          "base_uri": "https://localhost:8080/",
          "height": 35
        },
        "id": "AlpHwLAqqyh6",
        "outputId": "54f2cb80-7d2d-4bd8-f5a1-9d455791f43e"
      },
      "source": [
        "t1.tipo()"
      ],
      "execution_count": 29,
      "outputs": [
        {
          "output_type": "execute_result",
          "data": {
            "application/vnd.google.colaboratory.intrinsic+json": {
              "type": "string"
            },
            "text/plain": [
              "'não é triângulo'"
            ]
          },
          "metadata": {
            "tags": []
          },
          "execution_count": 29
        }
      ]
    },
    {
      "cell_type": "markdown",
      "metadata": {
        "id": "uAXDS4zMrLFc"
      },
      "source": [
        "**Q1:** Crie uma classe chamada aluno com os seguintes atributos:\n",
        "* Nome\n",
        "* Nota 1\n",
        "* Nota 2\n",
        "* Crie um construtor para a classe (__init__)"
      ]
    },
    {
      "cell_type": "code",
      "metadata": {
        "id": "C-bjxhgVrRR-"
      },
      "source": [
        "class Aluno:\n",
        "  def __init__(self, nome, nota1, nota2):\n",
        "    self.nome = nome\n",
        "    self.nota1 = nota1\n",
        "    self.nota2 = nota2\n",
        "  \n",
        "  def calcularMedia(self):\n",
        "    return (self.nota1+self.nota2)/2\n",
        "  \n",
        "  def imprimir(self):\n",
        "    print(f'Nome: {self.nome}')\n",
        "    print(f'Nota 1: {self.nota1}')\n",
        "    print(f'Nota 2: {self.nota2}')\n",
        "  \n",
        "  def resultado(self, media):\n",
        "    if media < 6:\n",
        "      print('Aluno reprovado')\n",
        "    else:\n",
        "      print('Aluno aprovado')\n",
        "\n"
      ],
      "execution_count": 53,
      "outputs": []
    },
    {
      "cell_type": "markdown",
      "metadata": {
        "id": "oM2AnRORshXr"
      },
      "source": [
        "**Q2:** Crie as seguintes funções (métodos):\n",
        "* Calcula média, retornando a média aritmética entre as notas\n",
        "* Mostra dados, que somente imprime o valor de todos os atributos\n",
        "* Resultado, que verifica se o aluno está aprovado ou reprovado (se a média for maior ou igual a 6.0, o aluno está aprovado)"
      ]
    },
    {
      "cell_type": "code",
      "metadata": {
        "colab": {
          "base_uri": "https://localhost:8080/"
        },
        "id": "jPrNBqctr15i",
        "outputId": "0dc35eb5-98b8-426a-a94b-707487fa87cf"
      },
      "source": [
        "A1 = Aluno('José', 8, 3.74)\n",
        "A1.calcularMedia()"
      ],
      "execution_count": 58,
      "outputs": [
        {
          "output_type": "execute_result",
          "data": {
            "text/plain": [
              "5.87"
            ]
          },
          "metadata": {
            "tags": []
          },
          "execution_count": 58
        }
      ]
    },
    {
      "cell_type": "code",
      "metadata": {
        "colab": {
          "base_uri": "https://localhost:8080/"
        },
        "id": "luPB4bB-s8dN",
        "outputId": "28c61a0b-2e62-4f5c-e8e0-24239a04b4aa"
      },
      "source": [
        "A1.imprimir()"
      ],
      "execution_count": 52,
      "outputs": [
        {
          "output_type": "stream",
          "text": [
            "Nome: Jair\n",
            "Nota 1: 8\n",
            "Nota 2: 9\n"
          ],
          "name": "stdout"
        }
      ]
    },
    {
      "cell_type": "code",
      "metadata": {
        "colab": {
          "base_uri": "https://localhost:8080/"
        },
        "id": "Hc9-zvaWtbmB",
        "outputId": "2279c2cb-e72e-4fc0-da5e-37b807dfbaee"
      },
      "source": [
        "A1.resultado(A1.calcularMedia())"
      ],
      "execution_count": 59,
      "outputs": [
        {
          "output_type": "stream",
          "text": [
            "Aluno reprovado\n"
          ],
          "name": "stdout"
        }
      ]
    }
  ]
}