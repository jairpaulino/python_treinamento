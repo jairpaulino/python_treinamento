{
  "nbformat": 4,
  "nbformat_minor": 0,
  "metadata": {
    "colab": {
      "name": "variaveis.ipynb",
      "provenance": [],
      "collapsed_sections": [],
      "authorship_tag": "ABX9TyNK6hswSG9RGObDG1lEClpl",
      "include_colab_link": true
    },
    "kernelspec": {
      "name": "python3",
      "display_name": "Python 3"
    },
    "language_info": {
      "name": "python"
    }
  },
  "cells": [
    {
      "cell_type": "markdown",
      "metadata": {
        "id": "view-in-github",
        "colab_type": "text"
      },
      "source": [
        "<a href=\"https://colab.research.google.com/github/jairpaulino/python_treinamento/blob/main/variaveis.ipynb\" target=\"_parent\"><img src=\"https://colab.research.google.com/assets/colab-badge.svg\" alt=\"Open In Colab\"/></a>"
      ]
    },
    {
      "cell_type": "markdown",
      "metadata": {
        "id": "j78lu-sTBogM"
      },
      "source": [
        "Exercício 01 - manipulaçaõ básica de variáveis"
      ]
    },
    {
      "cell_type": "markdown",
      "metadata": {
        "id": "pb_LGqrOC6Nn"
      },
      "source": [
        "Q01 (operações matemáticas): Ler dois números inteiros, executar e mostrar o resultado das seguintes operações: adição, subtração, multiplicação e divisão"
      ]
    },
    {
      "cell_type": "code",
      "metadata": {
        "colab": {
          "base_uri": "https://localhost:8080/"
        },
        "id": "bajztTBg_W6X",
        "outputId": "edd36b6a-7f54-4079-d04b-05c1e8294fde"
      },
      "source": [
        "n1 = int(input('Informe o primeiro número:'))"
      ],
      "execution_count": 11,
      "outputs": [
        {
          "output_type": "stream",
          "text": [
            "Informe o primeiro número:25\n"
          ],
          "name": "stdout"
        }
      ]
    },
    {
      "cell_type": "code",
      "metadata": {
        "colab": {
          "base_uri": "https://localhost:8080/"
        },
        "id": "Od7Umra4_-n0",
        "outputId": "b88aa96c-97a1-4cc9-eaf9-d995c8cd6477"
      },
      "source": [
        "n2 = int(input('Informe o segundo número:'))"
      ],
      "execution_count": 12,
      "outputs": [
        {
          "output_type": "stream",
          "text": [
            "Informe o segundo número:23\n"
          ],
          "name": "stdout"
        }
      ]
    },
    {
      "cell_type": "code",
      "metadata": {
        "colab": {
          "base_uri": "https://localhost:8080/"
        },
        "id": "eBgZNTo0CA7B",
        "outputId": "5d63f79b-607d-4f7b-bcf0-bb56fbffebcf"
      },
      "source": [
        "print(f'Os números informados foram {n1} e {n2}.')"
      ],
      "execution_count": 13,
      "outputs": [
        {
          "output_type": "stream",
          "text": [
            "Os números informados foram 25 e 23.\n"
          ],
          "name": "stdout"
        }
      ]
    },
    {
      "cell_type": "code",
      "metadata": {
        "colab": {
          "base_uri": "https://localhost:8080/"
        },
        "id": "TUT2fHcRCeOn",
        "outputId": "bdd7a8d7-9bcd-4f40-d82a-688873bb1a17"
      },
      "source": [
        "print('Soma: ', n1+n2)\n",
        "print('Subtração: ', n1-n2)\n",
        "print('Multiplicação: ', n1*n2)\n",
        "print('Divisão: ', round(n1/n2, 2))"
      ],
      "execution_count": 16,
      "outputs": [
        {
          "output_type": "stream",
          "text": [
            "Soma:  48\n",
            "Subtração:  2\n",
            "Multiplicação:  575\n",
            "Divisão:  1.09\n"
          ],
          "name": "stdout"
        }
      ]
    },
    {
      "cell_type": "markdown",
      "metadata": {
        "id": "8vVnLcgNC-V5"
      },
      "source": [
        "Q02: Efetuar o cálculo da quantidade de litros de combustível gasto em uma viagem, utilizando um automóvel que faz 12 Km por litro. Para obter o cálculo, o usuário deve fornecer o tempo gasto na viagem e a velocidade média durante ela. Desta forma, será possível obter a distância percorrida com a fórmula DISTANCIA = TEMPO * VELOCIDADE. Tendo o valor da distância, basta calcular a quantidade de litros de combustível utilizada na viagem, com a fórmula: LITROS_USADOS = DISTANCIA / 12. O programa deve apresentar os valores da velocidade média, tempo gasto na viagem, a distância percorrida e a quantidade de litros utilizada na viagem."
      ]
    },
    {
      "cell_type": "code",
      "metadata": {
        "colab": {
          "base_uri": "https://localhost:8080/"
        },
        "id": "pLE52-jKDddP",
        "outputId": "3659fdbc-75a8-4977-bece-7a3c2edb83cb"
      },
      "source": [
        "consumoMedio = 12\n",
        "tempoGasto = float(input('Informe o tempo gasto na viagem em horas: '))\n",
        "velocidadeMedia = float(input('Informe a velocidade média da viagem em km/h: '))"
      ],
      "execution_count": 19,
      "outputs": [
        {
          "output_type": "stream",
          "text": [
            "Informe o tempo gasto na viagem em horas: 2\n",
            "Informe a velocidade média da viagem: 35\n"
          ],
          "name": "stdout"
        }
      ]
    },
    {
      "cell_type": "code",
      "metadata": {
        "colab": {
          "base_uri": "https://localhost:8080/"
        },
        "id": "at_GiFNqEEdB",
        "outputId": "66b3f36b-28ca-4119-bcdb-eb5ae5725720"
      },
      "source": [
        "distanciaPercorrida = tempoGasto*velocidadeMedia\n",
        "consumoReal = distanciaPercorrida / consumoMedio\n",
        "print('A quantidade de combustível consumida foi {:.2f}.'.format(consumoReal))"
      ],
      "execution_count": 37,
      "outputs": [
        {
          "output_type": "stream",
          "text": [
            "A quantidade de combustível consumida foi 5.83.\n"
          ],
          "name": "stdout"
        }
      ]
    }
  ]
}