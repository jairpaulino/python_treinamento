{
  "nbformat": 4,
  "nbformat_minor": 0,
  "metadata": {
    "colab": {
      "name": "lista_tuplas_dic_conj_matrizes.ipynb",
      "provenance": [],
      "collapsed_sections": [],
      "authorship_tag": "ABX9TyPkLGgL2j0it0vkVot6t3vD",
      "include_colab_link": true
    },
    "kernelspec": {
      "name": "python3",
      "display_name": "Python 3"
    },
    "language_info": {
      "name": "python"
    }
  },
  "cells": [
    {
      "cell_type": "markdown",
      "metadata": {
        "id": "view-in-github",
        "colab_type": "text"
      },
      "source": [
        "<a href=\"https://colab.research.google.com/github/jairpaulino/python_treinamento/blob/main/lista_tuplas_dic_conj_matrizes.ipynb\" target=\"_parent\"><img src=\"https://colab.research.google.com/assets/colab-badge.svg\" alt=\"Open In Colab\"/></a>"
      ]
    },
    {
      "cell_type": "markdown",
      "metadata": {
        "id": "mef-TeAExwgD"
      },
      "source": [
        "**Exercícos 04** - Listas, tuplas, dicionário, conjuntos e matrizes"
      ]
    },
    {
      "cell_type": "markdown",
      "metadata": {
        "id": "Xc7gphG2x4Y7"
      },
      "source": [
        "**Q1:** Lista - Crie uma estrutura de repetição para fazer a leitura de 5 números inteiros e os armazene dentro de uma lista. Após a leitura, crie outra estrutura de repetição para somar todos os valores digitados"
      ]
    },
    {
      "cell_type": "code",
      "metadata": {
        "colab": {
          "base_uri": "https://localhost:8080/"
        },
        "id": "vxSRd6eExiS9",
        "outputId": "df5d869f-58c8-4500-9cc2-c4a7a949bf75"
      },
      "source": [
        "lista = []\n",
        "for i in range(5):\n",
        "  numero = int(input(\"Informe o número {}: \".format(i+1)))\n",
        "  lista.append(numero)\n",
        "print(lista)\n",
        "\n",
        "soma = 0\n",
        "for i in range(len(lista)):\n",
        "  soma += lista[i]\n",
        "\n",
        "print(soma)"
      ],
      "execution_count": 11,
      "outputs": [
        {
          "output_type": "stream",
          "text": [
            "Informe o número 1: 5\n",
            "Informe o número 2: 5\n",
            "Informe o número 3: 5\n",
            "Informe o número 4: 5\n",
            "Informe o número 5: 10\n",
            "[5, 5, 5, 5, 10]\n",
            "30\n"
          ],
          "name": "stdout"
        }
      ]
    },
    {
      "cell_type": "markdown",
      "metadata": {
        "id": "1EXODlILy4oo"
      },
      "source": [
        "**Q2:** Dicionário - Crie um dicionário para armazenar o nome e a nota de 3 alunos, fazendo a leitura dos valores por meio de uma estrutura de repetição. Depois, crie uma nova estrutura de repetição para somar todas as notas e retornar a média\n"
      ]
    },
    {
      "cell_type": "code",
      "metadata": {
        "colab": {
          "base_uri": "https://localhost:8080/"
        },
        "id": "EDjm0bCZzCOS",
        "outputId": "867e227b-4ed8-4fce-9bd7-ca3809b2e98a"
      },
      "source": [
        "notaAlunos = {}\n",
        "for i in range(1, 4):\n",
        "  nome = input(\"Informe o nome do aluno {}: \".format(i))\n",
        "  nota = float(input(\"Informa a nota do aluno {}: \".format(i)))\n",
        "  notaAlunos[nome] = nota\n",
        "\n",
        "print(notaAlunos)"
      ],
      "execution_count": 23,
      "outputs": [
        {
          "output_type": "stream",
          "text": [
            "Informe o nome do aluno 1: Jair\n",
            "Informa a nota do aluno 1: 8.8\n",
            "Informe o nome do aluno 2: Jonas\n",
            "Informa a nota do aluno 2: 9.3\n",
            "Informe o nome do aluno 3: Jadiel\n",
            "Informa a nota do aluno 3: 10\n",
            "{'Jair': 8.8, 'Jonas': 9.3, 'Jadiel': 10.0}\n"
          ],
          "name": "stdout"
        }
      ]
    },
    {
      "cell_type": "code",
      "metadata": {
        "colab": {
          "base_uri": "https://localhost:8080/"
        },
        "id": "CcCZeKxz2rzS",
        "outputId": "611c2aaa-6b8f-42e7-b893-6251beae483e"
      },
      "source": [
        "notaAlunos.values()"
      ],
      "execution_count": 27,
      "outputs": [
        {
          "output_type": "execute_result",
          "data": {
            "text/plain": [
              "dict_values([8.8, 9.3, 10.0])"
            ]
          },
          "metadata": {
            "tags": []
          },
          "execution_count": 27
        }
      ]
    },
    {
      "cell_type": "code",
      "metadata": {
        "colab": {
          "base_uri": "https://localhost:8080/"
        },
        "id": "lZ74EpfK2Ytw",
        "outputId": "390af114-4946-4627-d2a9-cdbe07dd65c2"
      },
      "source": [
        "soma = 0\n",
        "for nota in notaAlunos.values():\n",
        "  soma += nota\n",
        "print(round(soma/len(notaAlunos.values()),2))\n"
      ],
      "execution_count": 33,
      "outputs": [
        {
          "output_type": "stream",
          "text": [
            "9.37\n"
          ],
          "name": "stdout"
        }
      ]
    },
    {
      "cell_type": "markdown",
      "metadata": {
        "id": "ATYsqJ-czClN"
      },
      "source": [
        "**Q3**: Matriz - Dada a matriz abaixo, construa uma estrutura de repetição para percorrer e somar todos os elementos da matriz"
      ]
    },
    {
      "cell_type": "code",
      "metadata": {
        "id": "QVrJ1v6U3Ko9"
      },
      "source": [
        "import numpy as np"
      ],
      "execution_count": 34,
      "outputs": []
    },
    {
      "cell_type": "code",
      "metadata": {
        "colab": {
          "base_uri": "https://localhost:8080/"
        },
        "id": "fEnpYjZH3O8c",
        "outputId": "98dd735c-1a8a-4434-aa42-ce9f591acb12"
      },
      "source": [
        "matriz = np.array = [[3, 4, 1],\n",
        "                     [3, 1 ,5]]\n",
        "matriz"
      ],
      "execution_count": 36,
      "outputs": [
        {
          "output_type": "execute_result",
          "data": {
            "text/plain": [
              "[[3, 4, 1], [3, 1, 5]]"
            ]
          },
          "metadata": {
            "tags": []
          },
          "execution_count": 36
        }
      ]
    },
    {
      "cell_type": "code",
      "metadata": {
        "colab": {
          "base_uri": "https://localhost:8080/"
        },
        "id": "6xu1ljtg3Yim",
        "outputId": "090e65fb-107c-479b-8439-e2c1d8fc473f"
      },
      "source": [
        "soma = 0\n",
        "for i in range(0,2):\n",
        "  print(\"-\")\n",
        "  for j in range(0,3):\n",
        "    print(\"{}\".format(matriz[i][j])) \n",
        "    soma += matriz[i][j]\n",
        "print(\"A soma será {:.2f}\".format(soma))"
      ],
      "execution_count": 45,
      "outputs": [
        {
          "output_type": "stream",
          "text": [
            "-\n",
            "3\n",
            "4\n",
            "1\n",
            "-\n",
            "3\n",
            "1\n",
            "5\n",
            "A soma será 17.00\n"
          ],
          "name": "stdout"
        }
      ]
    }
  ]
}