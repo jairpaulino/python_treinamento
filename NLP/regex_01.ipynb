{
 "cells": [
  {
   "cell_type": "code",
   "execution_count": 10,
   "id": "2bd6a447-1d83-476b-b6ae-182b62e94f69",
   "metadata": {},
   "outputs": [
    {
     "data": {
      "text/html": [
       "<div>\n",
       "<style scoped>\n",
       "    .dataframe tbody tr th:only-of-type {\n",
       "        vertical-align: middle;\n",
       "    }\n",
       "\n",
       "    .dataframe tbody tr th {\n",
       "        vertical-align: top;\n",
       "    }\n",
       "\n",
       "    .dataframe thead th {\n",
       "        text-align: right;\n",
       "    }\n",
       "</style>\n",
       "<table border=\"1\" class=\"dataframe\">\n",
       "  <thead>\n",
       "    <tr style=\"text-align: right;\">\n",
       "      <th></th>\n",
       "      <th>Id</th>\n",
       "      <th>Título</th>\n",
       "      <th>Questão</th>\n",
       "      <th>Tags</th>\n",
       "      <th>Pontuação</th>\n",
       "      <th>Visualizações</th>\n",
       "    </tr>\n",
       "  </thead>\n",
       "  <tbody>\n",
       "    <tr>\n",
       "      <th>0</th>\n",
       "      <td>2402</td>\n",
       "      <td>Como fazer hash de senhas de forma segura?</td>\n",
       "      <td>&lt;p&gt;Se eu fizer o &lt;em&gt;&lt;a href=\"http://pt.wikipe...</td>\n",
       "      <td>&lt;hash&gt;&lt;segurança&gt;&lt;senhas&gt;&lt;criptografia&gt;</td>\n",
       "      <td>350</td>\n",
       "      <td>22367</td>\n",
       "    </tr>\n",
       "    <tr>\n",
       "      <th>1</th>\n",
       "      <td>6441</td>\n",
       "      <td>Qual é a diferença entre INNER JOIN e OUTER JOIN?</td>\n",
       "      <td>&lt;p&gt;Qual é a diferença entre &lt;code&gt;INNER JOIN&lt;/...</td>\n",
       "      <td>&lt;sql&gt;&lt;join&gt;</td>\n",
       "      <td>276</td>\n",
       "      <td>176953</td>\n",
       "    </tr>\n",
       "  </tbody>\n",
       "</table>\n",
       "</div>"
      ],
      "text/plain": [
       "     Id                                             Título  \\\n",
       "0  2402         Como fazer hash de senhas de forma segura?   \n",
       "1  6441  Qual é a diferença entre INNER JOIN e OUTER JOIN?   \n",
       "\n",
       "                                             Questão  \\\n",
       "0  <p>Se eu fizer o <em><a href=\"http://pt.wikipe...   \n",
       "1  <p>Qual é a diferença entre <code>INNER JOIN</...   \n",
       "\n",
       "                                      Tags  Pontuação  Visualizações  \n",
       "0  <hash><segurança><senhas><criptografia>        350          22367  \n",
       "1                              <sql><join>        276         176953  "
      ]
     },
     "execution_count": 10,
     "metadata": {},
     "output_type": "execute_result"
    }
   ],
   "source": [
    "import pandas as pd\n",
    "dados_portugues = pd.read_csv(\"Data/stackoverflow_portugues.csv\")\n",
    "dados_portugues.head(2)"
   ]
  },
  {
   "cell_type": "code",
   "execution_count": 9,
   "id": "0da4b644-e7b7-41d1-810e-6ec6303c94b4",
   "metadata": {},
   "outputs": [
    {
     "data": {
      "text/html": [
       "<div>\n",
       "<style scoped>\n",
       "    .dataframe tbody tr th:only-of-type {\n",
       "        vertical-align: middle;\n",
       "    }\n",
       "\n",
       "    .dataframe tbody tr th {\n",
       "        vertical-align: top;\n",
       "    }\n",
       "\n",
       "    .dataframe thead th {\n",
       "        text-align: right;\n",
       "    }\n",
       "</style>\n",
       "<table border=\"1\" class=\"dataframe\">\n",
       "  <thead>\n",
       "    <tr style=\"text-align: right;\">\n",
       "      <th></th>\n",
       "      <th>Id</th>\n",
       "      <th>Título</th>\n",
       "      <th>Questão</th>\n",
       "      <th>Tags</th>\n",
       "      <th>Pontuação</th>\n",
       "      <th>Visualizações</th>\n",
       "    </tr>\n",
       "  </thead>\n",
       "  <tbody>\n",
       "    <tr>\n",
       "      <th>0</th>\n",
       "      <td>11227809</td>\n",
       "      <td>Why is it faster to process a sorted array tha...</td>\n",
       "      <td>&lt;p&gt;Here is a piece of C++ code that seems very...</td>\n",
       "      <td>&lt;java&gt;&lt;c++&gt;&lt;performance&gt;&lt;optimization&gt;&lt;branch-...</td>\n",
       "      <td>23057</td>\n",
       "      <td>1358574</td>\n",
       "    </tr>\n",
       "    <tr>\n",
       "      <th>1</th>\n",
       "      <td>927358</td>\n",
       "      <td>How do I undo the most recent local commits in...</td>\n",
       "      <td>&lt;p&gt;I accidentally committed the wrong files to...</td>\n",
       "      <td>&lt;git&gt;&lt;version-control&gt;&lt;git-commit&gt;&lt;undo&gt;</td>\n",
       "      <td>19640</td>\n",
       "      <td>7906137</td>\n",
       "    </tr>\n",
       "  </tbody>\n",
       "</table>\n",
       "</div>"
      ],
      "text/plain": [
       "         Id                                             Título  \\\n",
       "0  11227809  Why is it faster to process a sorted array tha...   \n",
       "1    927358  How do I undo the most recent local commits in...   \n",
       "\n",
       "                                             Questão  \\\n",
       "0  <p>Here is a piece of C++ code that seems very...   \n",
       "1  <p>I accidentally committed the wrong files to...   \n",
       "\n",
       "                                                Tags  Pontuação  Visualizações  \n",
       "0  <java><c++><performance><optimization><branch-...      23057        1358574  \n",
       "1           <git><version-control><git-commit><undo>      19640        7906137  "
      ]
     },
     "execution_count": 9,
     "metadata": {},
     "output_type": "execute_result"
    }
   ],
   "source": [
    "dados_ingles = pd.read_csv(\"Data/stackoverflow_ingles.csv\")\n",
    "dados_ingles.head(2)"
   ]
  },
  {
   "cell_type": "code",
   "execution_count": 11,
   "id": "010a7a4b-6658-48ae-8023-310bbb8dea43",
   "metadata": {},
   "outputs": [
    {
     "data": {
      "text/html": [
       "<div>\n",
       "<style scoped>\n",
       "    .dataframe tbody tr th:only-of-type {\n",
       "        vertical-align: middle;\n",
       "    }\n",
       "\n",
       "    .dataframe tbody tr th {\n",
       "        vertical-align: top;\n",
       "    }\n",
       "\n",
       "    .dataframe thead th {\n",
       "        text-align: right;\n",
       "    }\n",
       "</style>\n",
       "<table border=\"1\" class=\"dataframe\">\n",
       "  <thead>\n",
       "    <tr style=\"text-align: right;\">\n",
       "      <th></th>\n",
       "      <th>Id</th>\n",
       "      <th>Título</th>\n",
       "      <th>Questão</th>\n",
       "      <th>Tags</th>\n",
       "      <th>Pontuação</th>\n",
       "      <th>Visualizações</th>\n",
       "    </tr>\n",
       "  </thead>\n",
       "  <tbody>\n",
       "    <tr>\n",
       "      <th>0</th>\n",
       "      <td>18232</td>\n",
       "      <td>¿Cómo evitar la inyección SQL en PHP?</td>\n",
       "      <td>&lt;p&gt;Las sentencias dinámicas son sentencias SQL...</td>\n",
       "      <td>&lt;php&gt;&lt;mysql&gt;&lt;sql&gt;&lt;seguridad&gt;&lt;inyección-sql&gt;</td>\n",
       "      <td>169</td>\n",
       "      <td>38614</td>\n",
       "    </tr>\n",
       "    <tr>\n",
       "      <th>1</th>\n",
       "      <td>197</td>\n",
       "      <td>¿Por qué mis programas no pueden hacer cálculo...</td>\n",
       "      <td>&lt;p&gt;Unas veces los cálculos funcionan correctam...</td>\n",
       "      <td>&lt;matemáticas&gt;&lt;coma-flotante&gt;&lt;lenguaje-agnóstico&gt;</td>\n",
       "      <td>141</td>\n",
       "      <td>3860</td>\n",
       "    </tr>\n",
       "  </tbody>\n",
       "</table>\n",
       "</div>"
      ],
      "text/plain": [
       "      Id                                             Título  \\\n",
       "0  18232              ¿Cómo evitar la inyección SQL en PHP?   \n",
       "1    197  ¿Por qué mis programas no pueden hacer cálculo...   \n",
       "\n",
       "                                             Questão  \\\n",
       "0  <p>Las sentencias dinámicas son sentencias SQL...   \n",
       "1  <p>Unas veces los cálculos funcionan correctam...   \n",
       "\n",
       "                                               Tags  Pontuação  Visualizações  \n",
       "0       <php><mysql><sql><seguridad><inyección-sql>        169          38614  \n",
       "1  <matemáticas><coma-flotante><lenguaje-agnóstico>        141           3860  "
      ]
     },
     "execution_count": 11,
     "metadata": {},
     "output_type": "execute_result"
    }
   ],
   "source": [
    "dados_espanhol = pd.read_csv(\"Data/stackoverflow_espanhol.csv\")\n",
    "dados_espanhol.head(2)"
   ]
  },
  {
   "cell_type": "code",
   "execution_count": null,
   "id": "28d5aa20-dc84-4a10-b013-f4c9eea7de65",
   "metadata": {},
   "outputs": [],
   "source": [
    "questao_portugues = dados_portugues.Questão\n",
    "questao_ingles = dados_ingles.Questão\n",
    "questao_espanhol = dados_espanhol.Questão"
   ]
  },
  {
   "cell_type": "code",
   "execution_count": 20,
   "id": "9eebba01-a35f-40a0-af60-a1cc37987cf9",
   "metadata": {},
   "outputs": [
    {
     "name": "stdout",
     "output_type": "stream",
     "text": [
      "<p>Desenvolvi uma página em PHP para uso interno da empresa que trabalho e apenas pouquíssimas pessoas a utilizam. Através dessa página é possível fazer algumas consultas, inserções, alterações e remoções de dados de uma tabela em um banco de dados MySQL, porém eu acredito que meu código em PHP não está protegido contra injeção de código SQL, por exemplo:</p>\n",
      "\n",
      "<pre><code>//----CONSULTA SQL----//\n",
      "$busca = mysql_query ('insert into Produtos (coluna) values(' . $valor . ')');\n",
      "</code></pre>\n",
      "\n",
      "<p>Logo, digamos que o usuário usar a sentença: <code>1); DROP TABLE Produtos;</code> para ao campo <code>valor</code> o comando ficaria: </p>\n",
      "\n",
      "<pre><code>insert into Produtos (coluna) values(1); DROP TABLE Produtos;\n",
      "</code></pre>\n",
      "\n",
      "<p>Ele vai inserir um novo registro cujo o campo <code>coluna</code> será <code>1</code> e logo em seguida ele vai deletar a tabela Produtos.</p>\n",
      "\n",
      "<p>Como posso melhorar meu código para prevenir essa situação?</p>\n",
      "\n"
     ]
    }
   ],
   "source": [
    "print(questao_portugues[5])"
   ]
  },
  {
   "cell_type": "code",
   "execution_count": 26,
   "id": "60de7e27-e4cc-4e22-8375-350102a90aa2",
   "metadata": {},
   "outputs": [
    {
     "data": {
      "text/plain": [
       "['<p>',\n",
       " '</p>',\n",
       " '<pre>',\n",
       " '<code>',\n",
       " '</code>',\n",
       " '</pre>',\n",
       " '<p>',\n",
       " '<code>',\n",
       " '</code>',\n",
       " '<code>',\n",
       " '</code>',\n",
       " '</p>',\n",
       " '<pre>',\n",
       " '<code>',\n",
       " '</code>',\n",
       " '</pre>',\n",
       " '<p>',\n",
       " '<code>',\n",
       " '</code>',\n",
       " '<code>',\n",
       " '</code>',\n",
       " '</p>',\n",
       " '<p>',\n",
       " '</p>']"
      ]
     },
     "execution_count": 26,
     "metadata": {},
     "output_type": "execute_result"
    }
   ],
   "source": [
    "import re\n",
    "re.findall(r\"<.*?>\", questao_portugues[5])"
   ]
  },
  {
   "cell_type": "code",
   "execution_count": 29,
   "id": "36a9727f-b0f4-46da-9a58-9bcb1ee69071",
   "metadata": {},
   "outputs": [
    {
     "data": {
      "text/plain": [
       "\"  T--E--S--T--E  Desenvolvi uma página em PHP para uso interno da empresa que trabalho e apenas pouquíssimas pessoas a utilizam. Através dessa página é possível fazer algumas consultas, inserções, alterações e remoções de dados de uma tabela em um banco de dados MySQL, porém eu acredito que meu código em PHP não está protegido contra injeção de código SQL, por exemplo:  T--E--S--T--E  \\n\\n  T--E--S--T--E    T--E--S--T--E  //----CONSULTA SQL----//\\n$busca = mysql_query ('insert into Produtos (coluna) values(' . $valor . ')');\\n  T--E--S--T--E    T--E--S--T--E  \\n\\n  T--E--S--T--E  Logo, digamos que o usuário usar a sentença:   T--E--S--T--E  1); DROP TABLE Produtos;  T--E--S--T--E   para ao campo   T--E--S--T--E  valor  T--E--S--T--E   o comando ficaria:   T--E--S--T--E  \\n\\n  T--E--S--T--E    T--E--S--T--E  insert into Produtos (coluna) values(1); DROP TABLE Produtos;\\n  T--E--S--T--E    T--E--S--T--E  \\n\\n  T--E--S--T--E  Ele vai inserir um novo registro cujo o campo   T--E--S--T--E  coluna  T--E--S--T--E   será   T--E--S--T--E  1  T--E--S--T--E   e logo em seguida ele vai deletar a tabela Produtos.  T--E--S--T--E  \\n\\n  T--E--S--T--E  Como posso melhorar meu código para prevenir essa situação?  T--E--S--T--E  \\n\""
      ]
     },
     "execution_count": 29,
     "metadata": {},
     "output_type": "execute_result"
    }
   ],
   "source": [
    "re.sub(r\"<.*?>\", \"  T--E--S--T--E  \", questao_portugues[5])"
   ]
  },
  {
   "cell_type": "code",
   "execution_count": 31,
   "id": "e9cf15c3-54dc-4a52-b449-2bc64f97cf71",
   "metadata": {},
   "outputs": [
    {
     "data": {
      "text/plain": [
       "<re.Match object; span=(20, 22), match='70'>"
      ]
     },
     "execution_count": 31,
     "metadata": {},
     "output_type": "execute_result"
    }
   ],
   "source": [
    "re.search(r\"70\", \"1787986654465464654670\")"
   ]
  },
  {
   "cell_type": "code",
   "execution_count": 33,
   "id": "3e06c341-0f79-4cea-8733-6dfbe7ba1322",
   "metadata": {},
   "outputs": [],
   "source": [
    "regex = re.compile(r\"70\")"
   ]
  },
  {
   "cell_type": "code",
   "execution_count": 34,
   "id": "d3fe6a1a-8b90-44ea-a2c6-31117933ef57",
   "metadata": {},
   "outputs": [
    {
     "data": {
      "text/plain": [
       "<re.Match object; span=(20, 22), match='70'>"
      ]
     },
     "execution_count": 34,
     "metadata": {},
     "output_type": "execute_result"
    }
   ],
   "source": [
    "regex.search(\"1787986654465464654670\")"
   ]
  },
  {
   "cell_type": "code",
   "execution_count": 35,
   "id": "6258bc15-8ab4-4ca7-be39-5bd8cfc75ae7",
   "metadata": {},
   "outputs": [],
   "source": [
    "from timeit import timeit"
   ]
  },
  {
   "cell_type": "code",
   "execution_count": 37,
   "id": "5368f2ad-1300-4f22-8d67-c012c7ff4b9c",
   "metadata": {},
   "outputs": [
    {
     "data": {
      "text/plain": [
       "1.2073849999997037"
      ]
     },
     "execution_count": 37,
     "metadata": {},
     "output_type": "execute_result"
    }
   ],
   "source": [
    "setup = \"\"\"import re\"\"\"\n",
    "timeit(\"\"\"re.search(r\"70\", \"1787986654465464654670\")\"\"\", setup)"
   ]
  },
  {
   "cell_type": "code",
   "execution_count": 41,
   "id": "b43815f8-c203-44bd-a3a0-c248ab7b8b60",
   "metadata": {},
   "outputs": [
    {
     "data": {
      "text/plain": [
       "0.37206300000025294"
      ]
     },
     "execution_count": 41,
     "metadata": {},
     "output_type": "execute_result"
    }
   ],
   "source": [
    "setup = \"\"\"import re\n",
    "regex = re.compile(r\"70\")\"\"\"\n",
    "\n",
    "timeit(\"\"\"regex.search(\"1787986654465464654670\")\"\"\", setup)"
   ]
  },
  {
   "cell_type": "code",
   "execution_count": 48,
   "id": "6957e67e-a52d-4530-9e87-60e9c6578c9d",
   "metadata": {},
   "outputs": [],
   "source": [
    "def remover(textos, regex):\n",
    "    if type(textos) == str:\n",
    "        return regex.sub(\"\", textos)\n",
    "    else:\n",
    "        return [regex.sub(\"\", texto) for texto in textos]"
   ]
  },
  {
   "cell_type": "code",
   "execution_count": 51,
   "id": "fbf5ce8c-29f4-43b3-9916-3e924f9d4752",
   "metadata": {},
   "outputs": [
    {
     "name": "stdout",
     "output_type": "stream",
     "text": [
      "Uma dúvida muito comum é por que devemos parar de usar funções do tipo mysql_* ? Por exemplo mysql_query(), ou mysql_connect().\n",
      "\n",
      "Vejo que muitas pessoas as usam, ou param de usar mas não sabem o real motivo. Por que elas deveriam parar de ser usadas uma vez que funcionam?\n",
      "\n"
     ]
    }
   ],
   "source": [
    "regex_html = re.compile(r\"<.*?>\")\n",
    "questao_sem_tag = remover(questao_portugues, regex_html)\n",
    "print(questao_sem_tag[2])"
   ]
  },
  {
   "cell_type": "code",
   "execution_count": 47,
   "id": "ca0282e0-1220-4031-a60f-9f91c8a4143e",
   "metadata": {},
   "outputs": [],
   "source": [
    "regex_html = re.compile(r\"<.*?>\")\n",
    "questao_sem_tag_es = remover(questao_espanhol[0], regex_html)\n",
    "#print(questao_sem_tag_es)"
   ]
  },
  {
   "cell_type": "code",
   "execution_count": 65,
   "id": "710099d7-1be9-4ad5-9bd2-172a68411c3f",
   "metadata": {},
   "outputs": [],
   "source": [
    "def substituir_codigo(textos, regex):\n",
    "    if type(textos) == str:\n",
    "        return regex.sub(\"CODE\", textos)\n",
    "    else:\n",
    "        return [regex.sub(\"CODE\", texto) for texto in textos]"
   ]
  },
  {
   "cell_type": "code",
   "execution_count": 63,
   "id": "320f62ee-6a5f-48ca-8cb5-a3c64a6e3c57",
   "metadata": {},
   "outputs": [],
   "source": [
    "regex_codigo = re.compile(r\"<code>(.|(\\n))*?</code>\")"
   ]
  },
  {
   "cell_type": "code",
   "execution_count": 68,
   "id": "9567a1c7-b7bf-474d-b664-2d1c7ede09fc",
   "metadata": {},
   "outputs": [
    {
     "name": "stdout",
     "output_type": "stream",
     "text": [
      "<p>Desenvolvi uma página em PHP para uso interno da empresa que trabalho e apenas pouquíssimas pessoas a utilizam. Através dessa página é possível fazer algumas consultas, inserções, alterações e remoções de dados de uma tabela em um banco de dados MySQL, porém eu acredito que meu código em PHP não está protegido contra injeção de código SQL, por exemplo:</p>\n",
      "\n",
      "<pre><code>//----CONSULTA SQL----//\n",
      "$busca = mysql_query ('insert into Produtos (coluna) values(' . $valor . ')');\n",
      "</code></pre>\n",
      "\n",
      "<p>Logo, digamos que o usuário usar a sentença: <code>1); DROP TABLE Produtos;</code> para ao campo <code>valor</code> o comando ficaria: </p>\n",
      "\n",
      "<pre><code>insert into Produtos (coluna) values(1); DROP TABLE Produtos;\n",
      "</code></pre>\n",
      "\n",
      "<p>Ele vai inserir um novo registro cujo o campo <code>coluna</code> será <code>1</code> e logo em seguida ele vai deletar a tabela Produtos.</p>\n",
      "\n",
      "<p>Como posso melhorar meu código para prevenir essa situação?</p>\n",
      "\n"
     ]
    }
   ],
   "source": [
    "print(questao_portugues[5])"
   ]
  },
  {
   "cell_type": "code",
   "execution_count": 70,
   "id": "a200c2e4-0dd0-4d62-a817-0679616c46fe",
   "metadata": {},
   "outputs": [
    {
     "name": "stdout",
     "output_type": "stream",
     "text": [
      "<p>Siempre he visto que en CODE hay:</p>\n",
      "\n",
      "<ul>\n",
      "<li>asignaciones CODE</li>\n",
      "<li>comparaciones CODE y CODE</li>\n",
      "</ul>\n",
      "\n",
      "<p>Creo entender que CODE hace algo parecido a comparar el valor de la variable y el CODE también compara el tipo (como un equals de java). </p>\n",
      "\n",
      "<p><strong>¿Alguien podría confirmarme este punto y extenderlo?</strong>. Soy javero y el no tipado de javascript a veces me encanta y otras lo odio.</p>\n",
      "\n",
      "<hr>\n",
      "\n",
      "<p>¿Cuál es la manera correcta en javascript de comparar CODE, CODE y otros valores por defecto? </p>\n",
      "\n",
      "<pre>CODE</pre>\n",
      "\n",
      "<p>¿<strong>CODE</strong> se usa como cadena de texto o como palabra clave? ¿Cual de las siguientes comparaciones es la correcta para un elemento CODE sin CODE? (por ejemplo un label sin contenido)</p>\n",
      "\n",
      "<pre>CODE</pre>\n",
      "\n"
     ]
    }
   ],
   "source": [
    "questao_sem_code = substituir_codigo(questao_portugues, regex_codigo)\n",
    "print(questao_sem_code[5])"
   ]
  },
  {
   "cell_type": "code",
   "execution_count": 75,
   "id": "b1caa15b-f350-4445-b1a6-a39492de8f57",
   "metadata": {},
   "outputs": [
    {
     "data": {
      "text/plain": [
       "'<p>Se eu fizer o <em><a href=\"http://pt.wikipedia.org/wiki/Fun%C3%A7%C3%A3o_de_embaralhamento_criptogr%C3%A1fico\" rel=\"noreferrer\">hash</a></em> de senhas antes de armazená-las em meu banco de dados é suficiente para evitar que elas sejam recuperadas por alguém?</p>\\n\\n<p>Estou falando apenas da recuperação diretamente do banco de dados e não qualquer outro tipo de ataque, como <a href=\"http://pt.wikipedia.org/wiki/Ataque_de_for%C3%A7a_bruta\" rel=\"noreferrer\">força bruta</a> na página de login da aplicação, <em><a href=\"http://pt.wikipedia.org/wiki/Keylogger\" rel=\"noreferrer\">keylogger</a></em> no cliente e <a href=\"http://pt.wikipedia.org/wiki/Criptoan%C3%A1lise_de_mangueira_de_borracha\" rel=\"noreferrer\">criptoanálise <em>rubberhose</em></a>. Qualquer forma de <em>hash</em> não vai impedir esses ataques.</p>\\n\\n<p>Tenho preocupação em dificultar ou até impossibilitar a obtenção das senhas originais caso o banco de dados seja comprometido. Como dar maior garantia de segurança neste aspecto?</p>\\n\\n<p>Quais preocupações adicionais evitariam o acesso às senhas? Existem formas melhores de fazer esse <em>hash</em>?</p>\\n'"
      ]
     },
     "execution_count": 75,
     "metadata": {},
     "output_type": "execute_result"
    }
   ],
   "source": [
    "questoes_port_sem_code = substituir_codigo(dados_portugues.Questão, regex_codigo)\n",
    "questoes_port_sem_code[0]"
   ]
  },
  {
   "cell_type": "code",
   "execution_count": 76,
   "id": "e778ae9c-02ad-48ad-8897-6ff26d2956ae",
   "metadata": {},
   "outputs": [],
   "source": [
    "questoes_port_sem_code_tag = remover(questoes_port_sem_code, regex_html)"
   ]
  },
  {
   "cell_type": "code",
   "execution_count": 78,
   "id": "04f37a70-5fe8-4021-9a3b-43990f9d5aa6",
   "metadata": {},
   "outputs": [
    {
     "data": {
      "text/html": [
       "<div>\n",
       "<style scoped>\n",
       "    .dataframe tbody tr th:only-of-type {\n",
       "        vertical-align: middle;\n",
       "    }\n",
       "\n",
       "    .dataframe tbody tr th {\n",
       "        vertical-align: top;\n",
       "    }\n",
       "\n",
       "    .dataframe thead th {\n",
       "        text-align: right;\n",
       "    }\n",
       "</style>\n",
       "<table border=\"1\" class=\"dataframe\">\n",
       "  <thead>\n",
       "    <tr style=\"text-align: right;\">\n",
       "      <th></th>\n",
       "      <th>Id</th>\n",
       "      <th>Título</th>\n",
       "      <th>Questão</th>\n",
       "      <th>Tags</th>\n",
       "      <th>Pontuação</th>\n",
       "      <th>Visualizações</th>\n",
       "      <th>sem_code_tag</th>\n",
       "    </tr>\n",
       "  </thead>\n",
       "  <tbody>\n",
       "    <tr>\n",
       "      <th>0</th>\n",
       "      <td>2402</td>\n",
       "      <td>Como fazer hash de senhas de forma segura?</td>\n",
       "      <td>&lt;p&gt;Se eu fizer o &lt;em&gt;&lt;a href=\"http://pt.wikipe...</td>\n",
       "      <td>&lt;hash&gt;&lt;segurança&gt;&lt;senhas&gt;&lt;criptografia&gt;</td>\n",
       "      <td>350</td>\n",
       "      <td>22367</td>\n",
       "      <td>Se eu fizer o hash de senhas antes de armazená...</td>\n",
       "    </tr>\n",
       "    <tr>\n",
       "      <th>1</th>\n",
       "      <td>6441</td>\n",
       "      <td>Qual é a diferença entre INNER JOIN e OUTER JOIN?</td>\n",
       "      <td>&lt;p&gt;Qual é a diferença entre &lt;code&gt;INNER JOIN&lt;/...</td>\n",
       "      <td>&lt;sql&gt;&lt;join&gt;</td>\n",
       "      <td>276</td>\n",
       "      <td>176953</td>\n",
       "      <td>Qual é a diferença entre CODE e CODE? Podem me...</td>\n",
       "    </tr>\n",
       "  </tbody>\n",
       "</table>\n",
       "</div>"
      ],
      "text/plain": [
       "     Id                                             Título  \\\n",
       "0  2402         Como fazer hash de senhas de forma segura?   \n",
       "1  6441  Qual é a diferença entre INNER JOIN e OUTER JOIN?   \n",
       "\n",
       "                                             Questão  \\\n",
       "0  <p>Se eu fizer o <em><a href=\"http://pt.wikipe...   \n",
       "1  <p>Qual é a diferença entre <code>INNER JOIN</...   \n",
       "\n",
       "                                      Tags  Pontuação  Visualizações  \\\n",
       "0  <hash><segurança><senhas><criptografia>        350          22367   \n",
       "1                              <sql><join>        276         176953   \n",
       "\n",
       "                                        sem_code_tag  \n",
       "0  Se eu fizer o hash de senhas antes de armazená...  \n",
       "1  Qual é a diferença entre CODE e CODE? Podem me...  "
      ]
     },
     "execution_count": 78,
     "metadata": {},
     "output_type": "execute_result"
    }
   ],
   "source": [
    "dados_portugues[\"sem_code_tag\"] = questoes_port_sem_code_tag\n",
    "dados_portugues.head(2)"
   ]
  },
  {
   "cell_type": "code",
   "execution_count": 81,
   "id": "3200c4b0-b433-4941-8728-410e58c18490",
   "metadata": {},
   "outputs": [
    {
     "data": {
      "text/html": [
       "<div>\n",
       "<style scoped>\n",
       "    .dataframe tbody tr th:only-of-type {\n",
       "        vertical-align: middle;\n",
       "    }\n",
       "\n",
       "    .dataframe tbody tr th {\n",
       "        vertical-align: top;\n",
       "    }\n",
       "\n",
       "    .dataframe thead th {\n",
       "        text-align: right;\n",
       "    }\n",
       "</style>\n",
       "<table border=\"1\" class=\"dataframe\">\n",
       "  <thead>\n",
       "    <tr style=\"text-align: right;\">\n",
       "      <th></th>\n",
       "      <th>Id</th>\n",
       "      <th>Título</th>\n",
       "      <th>Questão</th>\n",
       "      <th>Tags</th>\n",
       "      <th>Pontuação</th>\n",
       "      <th>Visualizações</th>\n",
       "      <th>sem_code_tag</th>\n",
       "    </tr>\n",
       "  </thead>\n",
       "  <tbody>\n",
       "    <tr>\n",
       "      <th>0</th>\n",
       "      <td>11227809</td>\n",
       "      <td>Why is it faster to process a sorted array tha...</td>\n",
       "      <td>&lt;p&gt;Here is a piece of C++ code that seems very...</td>\n",
       "      <td>&lt;java&gt;&lt;c++&gt;&lt;performance&gt;&lt;optimization&gt;&lt;branch-...</td>\n",
       "      <td>23057</td>\n",
       "      <td>1358574</td>\n",
       "      <td>Here is a piece of C++ code that seems very pe...</td>\n",
       "    </tr>\n",
       "    <tr>\n",
       "      <th>1</th>\n",
       "      <td>927358</td>\n",
       "      <td>How do I undo the most recent local commits in...</td>\n",
       "      <td>&lt;p&gt;I accidentally committed the wrong files to...</td>\n",
       "      <td>&lt;git&gt;&lt;version-control&gt;&lt;git-commit&gt;&lt;undo&gt;</td>\n",
       "      <td>19640</td>\n",
       "      <td>7906137</td>\n",
       "      <td>I accidentally committed the wrong files to Gi...</td>\n",
       "    </tr>\n",
       "  </tbody>\n",
       "</table>\n",
       "</div>"
      ],
      "text/plain": [
       "         Id                                             Título  \\\n",
       "0  11227809  Why is it faster to process a sorted array tha...   \n",
       "1    927358  How do I undo the most recent local commits in...   \n",
       "\n",
       "                                             Questão  \\\n",
       "0  <p>Here is a piece of C++ code that seems very...   \n",
       "1  <p>I accidentally committed the wrong files to...   \n",
       "\n",
       "                                                Tags  Pontuação  \\\n",
       "0  <java><c++><performance><optimization><branch-...      23057   \n",
       "1           <git><version-control><git-commit><undo>      19640   \n",
       "\n",
       "   Visualizações                                       sem_code_tag  \n",
       "0        1358574  Here is a piece of C++ code that seems very pe...  \n",
       "1        7906137  I accidentally committed the wrong files to Gi...  "
      ]
     },
     "execution_count": 81,
     "metadata": {},
     "output_type": "execute_result"
    }
   ],
   "source": [
    "questoes_ing_sem_code = substituir_codigo(dados_ingles.Questão, regex_codigo)\n",
    "questoes_ing_sem_code_tag = remover(questoes_ing_sem_code, regex_html)\n",
    "dados_ingles[\"sem_code_tag\"] = questoes_ing_sem_code_tag\n",
    "dados_ingles.head(2)"
   ]
  },
  {
   "cell_type": "code",
   "execution_count": 83,
   "id": "4fe26724-7223-4d68-926c-ff5e6bfa4f93",
   "metadata": {},
   "outputs": [
    {
     "data": {
      "text/html": [
       "<div>\n",
       "<style scoped>\n",
       "    .dataframe tbody tr th:only-of-type {\n",
       "        vertical-align: middle;\n",
       "    }\n",
       "\n",
       "    .dataframe tbody tr th {\n",
       "        vertical-align: top;\n",
       "    }\n",
       "\n",
       "    .dataframe thead th {\n",
       "        text-align: right;\n",
       "    }\n",
       "</style>\n",
       "<table border=\"1\" class=\"dataframe\">\n",
       "  <thead>\n",
       "    <tr style=\"text-align: right;\">\n",
       "      <th></th>\n",
       "      <th>Id</th>\n",
       "      <th>Título</th>\n",
       "      <th>Questão</th>\n",
       "      <th>Tags</th>\n",
       "      <th>Pontuação</th>\n",
       "      <th>Visualizações</th>\n",
       "      <th>sem_code_tag</th>\n",
       "    </tr>\n",
       "  </thead>\n",
       "  <tbody>\n",
       "    <tr>\n",
       "      <th>0</th>\n",
       "      <td>18232</td>\n",
       "      <td>¿Cómo evitar la inyección SQL en PHP?</td>\n",
       "      <td>&lt;p&gt;Las sentencias dinámicas son sentencias SQL...</td>\n",
       "      <td>&lt;php&gt;&lt;mysql&gt;&lt;sql&gt;&lt;seguridad&gt;&lt;inyección-sql&gt;</td>\n",
       "      <td>169</td>\n",
       "      <td>38614</td>\n",
       "      <td>Las sentencias dinámicas son sentencias SQL qu...</td>\n",
       "    </tr>\n",
       "    <tr>\n",
       "      <th>1</th>\n",
       "      <td>197</td>\n",
       "      <td>¿Por qué mis programas no pueden hacer cálculo...</td>\n",
       "      <td>&lt;p&gt;Unas veces los cálculos funcionan correctam...</td>\n",
       "      <td>&lt;matemáticas&gt;&lt;coma-flotante&gt;&lt;lenguaje-agnóstico&gt;</td>\n",
       "      <td>141</td>\n",
       "      <td>3860</td>\n",
       "      <td>Unas veces los cálculos funcionan correctament...</td>\n",
       "    </tr>\n",
       "  </tbody>\n",
       "</table>\n",
       "</div>"
      ],
      "text/plain": [
       "      Id                                             Título  \\\n",
       "0  18232              ¿Cómo evitar la inyección SQL en PHP?   \n",
       "1    197  ¿Por qué mis programas no pueden hacer cálculo...   \n",
       "\n",
       "                                             Questão  \\\n",
       "0  <p>Las sentencias dinámicas son sentencias SQL...   \n",
       "1  <p>Unas veces los cálculos funcionan correctam...   \n",
       "\n",
       "                                               Tags  Pontuação  Visualizações  \\\n",
       "0       <php><mysql><sql><seguridad><inyección-sql>        169          38614   \n",
       "1  <matemáticas><coma-flotante><lenguaje-agnóstico>        141           3860   \n",
       "\n",
       "                                        sem_code_tag  \n",
       "0  Las sentencias dinámicas son sentencias SQL qu...  \n",
       "1  Unas veces los cálculos funcionan correctament...  "
      ]
     },
     "execution_count": 83,
     "metadata": {},
     "output_type": "execute_result"
    }
   ],
   "source": [
    "questoes_esp_sem_code = substituir_codigo(dados_espanhol.Questão, regex_codigo)\n",
    "questoes_esp_sem_code_tag = remover(questoes_esp_sem_code, regex_html)\n",
    "dados_espanhol[\"sem_code_tag\"] = questoes_esp_sem_code_tag\n",
    "dados_espanhol.head(2)"
   ]
  },
  {
   "cell_type": "code",
   "execution_count": 88,
   "id": "8252bade-6353-4698-a082-85d30eec5df9",
   "metadata": {},
   "outputs": [
    {
     "name": "stdout",
     "output_type": "stream",
     "text": [
      "Here is a piece of C code that seems very peculiar For some strange reason sorting the data miraculously makes the code almost six times faster\n",
      "\n",
      "CODE\n",
      "\n",
      "\n",
      "Without CODE the code runs in 1154 seconds\n",
      "With the sorted data the code runs in 193 seconds\n",
      "\n",
      "\n",
      "Initially I thought this might be just a language or compiler anomaly So I tried it in Java\n",
      "\n",
      "CODE\n",
      "\n",
      "With a somewhat similar but less extreme result\n",
      "\n",
      "\n",
      "\n",
      "My first thought was that sorting brings the data into the cache but then I thought how silly that is because the array was just generated\n",
      "\n",
      "\n",
      "What is going on\n",
      "Why is it faster to process a sorted array than an unsorted array\n",
      "The code is summing up some independent terms and the order should not matter\n",
      "\n",
      "\n"
     ]
    }
   ],
   "source": [
    "regex_pontuacao = re.compile(r\"[^\\w\\s]\")\n",
    "print(remover(questoes_ing_sem_code_tag[0], regex_pontuacao))"
   ]
  },
  {
   "cell_type": "code",
   "execution_count": 90,
   "id": "0b8b8aec-851a-4063-9a42-3a7fda831f2b",
   "metadata": {},
   "outputs": [
    {
     "name": "stdout",
     "output_type": "stream",
     "text": [
      "here is a piece of c++ code that seems very peculiar. for some strange reason, sorting the data miraculously makes the code almost six times faster.\n",
      "\n",
      "code\n",
      "\n",
      "\n",
      "without code, the code runs in 11.54 seconds.\n",
      "with the sorted data, the code runs in 1.93 seconds.\n",
      "\n",
      "\n",
      "initially, i thought this might be just a language or compiler anomaly. so i tried it in java.\n",
      "\n",
      "code\n",
      "\n",
      "with a somewhat similar but less extreme result.\n",
      "\n",
      "\n",
      "\n",
      "my first thought was that sorting brings the data into the cache, but then i thought how silly that is because the array was just generated.\n",
      "\n",
      "\n",
      "what is going on?\n",
      "why is it faster to process a sorted array than an unsorted array?\n",
      "the code is summing up some independent terms, and the order should not matter.\n",
      "\n",
      "\n"
     ]
    }
   ],
   "source": [
    "def minusculo(textos):\n",
    "    if type(textos) == str:\n",
    "        return textos.lower()\n",
    "    else:\n",
    "        return [texto.lower() for texto in textos]\n",
    "print(minusculo(questoes_ing_sem_code_tag[0]))"
   ]
  },
  {
   "cell_type": "code",
   "execution_count": 92,
   "id": "7f134746-4591-450a-83b7-cbe790d22a29",
   "metadata": {},
   "outputs": [
    {
     "name": "stdout",
     "output_type": "stream",
     "text": [
      "test \n"
     ]
    }
   ],
   "source": [
    "regex_digitos = re.compile(r\"\\d+\")\n",
    "print(remover(\"test 123\", regex_digitos))"
   ]
  },
  {
   "cell_type": "code",
   "execution_count": 102,
   "id": "b73cfc1b-8530-4d36-87f0-2260f6df8ebc",
   "metadata": {},
   "outputs": [
    {
     "name": "stdout",
     "output_type": "stream",
     "text": [
      "Alura d d ss\n",
      "test  d   d    ss\n"
     ]
    }
   ],
   "source": [
    "regex_espaco = re.compile(r\" +\")\n",
    "regex_quebra_linha = re.compile(r\"(\\n)\")\n",
    "\n",
    "def substituir_por_espaco(textos, regex):\n",
    "    if type(textos) == str:\n",
    "        return regex.sub(\" \", textos)\n",
    "    else:\n",
    "        return [regex.sub(\" \", texto) for texto in textos]\n",
    "    \n",
    "print(substituir_por_espaco(\"test  d   d  ss\", regex_espaco))\n",
    "\n",
    "def substituir_por_espaco(textos, regex):\n",
    "    if type(textos) == str:\n",
    "        return regex.sub(\" \", textos)\n",
    "    else:\n",
    "        return [regex.sub(\" \", texto) for texto in textos]\n",
    "    \n",
    "print(substituir_por_espaco(\"test  d   d \\n\\n ss\", regex_quebra_linha))"
   ]
  },
  {
   "cell_type": "code",
   "execution_count": 115,
   "id": "ba5f7c60-fbfe-4d49-8d84-c701691256e8",
   "metadata": {},
   "outputs": [],
   "source": [
    "questoes_port_sem_pont = remover(dados_portugues.sem_code_tag, regex_pontuacao)\n",
    "questoes_port_sem_pont_minus = minusculo(questoes_port_sem_pont)\n",
    "questoes_port_sem_pont_minus_dig = remover(questoes_port_sem_pont_minus, regex_digitos)\n",
    "\n",
    "quests_pt_sem_quebLinha = substituir_por_espaco(questoes_port_sem_pont_minus_dig\n",
    "                                                , regex_quebra_linha)\n",
    "\n",
    "quests_pt_sem_esp2 = substituir_por_espaco(quests_pt_sem_quebLinha\n",
    "                                           , regex_espaco)\n",
    "\n",
    "dados_portugues[\"questoes_tratadas\"] = quests_pt_sem_esp2"
   ]
  },
  {
   "cell_type": "code",
   "execution_count": 116,
   "id": "c319fcaa-8570-421e-903d-cc877560d4a3",
   "metadata": {},
   "outputs": [
    {
     "data": {
      "text/html": [
       "<div>\n",
       "<style scoped>\n",
       "    .dataframe tbody tr th:only-of-type {\n",
       "        vertical-align: middle;\n",
       "    }\n",
       "\n",
       "    .dataframe tbody tr th {\n",
       "        vertical-align: top;\n",
       "    }\n",
       "\n",
       "    .dataframe thead th {\n",
       "        text-align: right;\n",
       "    }\n",
       "</style>\n",
       "<table border=\"1\" class=\"dataframe\">\n",
       "  <thead>\n",
       "    <tr style=\"text-align: right;\">\n",
       "      <th></th>\n",
       "      <th>Id</th>\n",
       "      <th>Título</th>\n",
       "      <th>Questão</th>\n",
       "      <th>Tags</th>\n",
       "      <th>Pontuação</th>\n",
       "      <th>Visualizações</th>\n",
       "      <th>sem_code_tag</th>\n",
       "      <th>questoes_tratadas</th>\n",
       "    </tr>\n",
       "  </thead>\n",
       "  <tbody>\n",
       "    <tr>\n",
       "      <th>0</th>\n",
       "      <td>2402</td>\n",
       "      <td>Como fazer hash de senhas de forma segura?</td>\n",
       "      <td>&lt;p&gt;Se eu fizer o &lt;em&gt;&lt;a href=\"http://pt.wikipe...</td>\n",
       "      <td>&lt;hash&gt;&lt;segurança&gt;&lt;senhas&gt;&lt;criptografia&gt;</td>\n",
       "      <td>350</td>\n",
       "      <td>22367</td>\n",
       "      <td>Se eu fizer o hash de senhas antes de armazená...</td>\n",
       "      <td>se eu fizer o hash de senhas antes de armazená...</td>\n",
       "    </tr>\n",
       "    <tr>\n",
       "      <th>1</th>\n",
       "      <td>6441</td>\n",
       "      <td>Qual é a diferença entre INNER JOIN e OUTER JOIN?</td>\n",
       "      <td>&lt;p&gt;Qual é a diferença entre &lt;code&gt;INNER JOIN&lt;/...</td>\n",
       "      <td>&lt;sql&gt;&lt;join&gt;</td>\n",
       "      <td>276</td>\n",
       "      <td>176953</td>\n",
       "      <td>Qual é a diferença entre CODE e CODE? Podem me...</td>\n",
       "      <td>qual é a diferença entre code e code podem me ...</td>\n",
       "    </tr>\n",
       "  </tbody>\n",
       "</table>\n",
       "</div>"
      ],
      "text/plain": [
       "     Id                                             Título  \\\n",
       "0  2402         Como fazer hash de senhas de forma segura?   \n",
       "1  6441  Qual é a diferença entre INNER JOIN e OUTER JOIN?   \n",
       "\n",
       "                                             Questão  \\\n",
       "0  <p>Se eu fizer o <em><a href=\"http://pt.wikipe...   \n",
       "1  <p>Qual é a diferença entre <code>INNER JOIN</...   \n",
       "\n",
       "                                      Tags  Pontuação  Visualizações  \\\n",
       "0  <hash><segurança><senhas><criptografia>        350          22367   \n",
       "1                              <sql><join>        276         176953   \n",
       "\n",
       "                                        sem_code_tag  \\\n",
       "0  Se eu fizer o hash de senhas antes de armazená...   \n",
       "1  Qual é a diferença entre CODE e CODE? Podem me...   \n",
       "\n",
       "                                   questoes_tratadas  \n",
       "0  se eu fizer o hash de senhas antes de armazená...  \n",
       "1  qual é a diferença entre code e code podem me ...  "
      ]
     },
     "execution_count": 116,
     "metadata": {},
     "output_type": "execute_result"
    }
   ],
   "source": [
    "dados_portugues.head(2)"
   ]
  },
  {
   "cell_type": "code",
   "execution_count": 119,
   "id": "c851368c-6d0c-4c04-981a-f5661f887b69",
   "metadata": {},
   "outputs": [
    {
     "data": {
      "text/plain": [
       "'desenvolvi uma página em php para uso interno da empresa que trabalho e apenas pouquíssimas pessoas a utilizam através dessa página é possível fazer algumas consultas inserções alterações e remoções de dados de uma tabela em um banco de dados mysql porém eu acredito que meu código em php não está protegido contra injeção de código sql por exemplo code logo digamos que o usuário usar a sentença code para ao campo code o comando ficaria code ele vai inserir um novo registro cujo o campo code será code e logo em seguida ele vai deletar a tabela produtos como posso melhorar meu código para prevenir essa situação '"
      ]
     },
     "execution_count": 119,
     "metadata": {},
     "output_type": "execute_result"
    }
   ],
   "source": [
    "dados_portugues.questoes_tratadas[5]"
   ]
  },
  {
   "cell_type": "code",
   "execution_count": 125,
   "id": "8dacbbf4-9f5a-499a-b0d1-93d11aa233af",
   "metadata": {},
   "outputs": [
    {
     "data": {
      "text/plain": [
       "'what is the use of the code keyword in python what does it do for example im trying to understand this code code and this is the caller code what happens when the method code is called is a list returned a single element is it called again when will subsequent calls stop this piece of code was written by jochen schulz jrschulz who made a great python library for metric spaces this is the link to the complete source module mspace '"
      ]
     },
     "execution_count": 125,
     "metadata": {},
     "output_type": "execute_result"
    }
   ],
   "source": [
    "questoes_ing_sem_pont = remover(dados_ingles.sem_code_tag, regex_pontuacao)\n",
    "questoes_ing_sem_pont_minus = minusculo(questoes_ing_sem_pont)\n",
    "questoes_ing_sem_pont_minus_dig = remover(questoes_ing_sem_pont_minus, regex_digitos)\n",
    "\n",
    "quests_ing_sem_quebLinha = substituir_por_espaco(questoes_ing_sem_pont_minus_dig\n",
    "                                                , regex_quebra_linha)\n",
    "\n",
    "quests_ing_sem_esp2 = substituir_por_espaco(quests_ing_sem_quebLinha\n",
    "                                           , regex_espaco)\n",
    "\n",
    "dados_ingles[\"questoes_tratadas\"] = quests_ing_sem_esp2\n",
    "dados_ingles.questoes_tratadas[5]"
   ]
  },
  {
   "cell_type": "code",
   "execution_count": 127,
   "id": "c9c1092b-b522-4aca-b2db-0a114e93c1c2",
   "metadata": {},
   "outputs": [
    {
     "data": {
      "text/plain": [
       "'siempre he visto que en code hay asignaciones code comparaciones code y code creo entender que code hace algo parecido a comparar el valor de la variable y el code también compara el tipo como un equals de java alguien podría confirmarme este punto y extenderlo soy javero y el no tipado de javascript a veces me encanta y otras lo odio cuál es la manera correcta en javascript de comparar code code y otros valores por defecto code code se usa como cadena de texto o como palabra clave cual de las siguientes comparaciones es la correcta para un elemento code sin code por ejemplo un label sin contenido code '"
      ]
     },
     "execution_count": 127,
     "metadata": {},
     "output_type": "execute_result"
    }
   ],
   "source": [
    "questoes_esp_sem_pont = remover(dados_espanhol.sem_code_tag, regex_pontuacao)\n",
    "questoes_esp_sem_pont_minus = minusculo(questoes_esp_sem_pont)\n",
    "questoes_esp_sem_pont_minus_dig = remover(questoes_esp_sem_pont_minus, regex_digitos)\n",
    "\n",
    "quests_esp_sem_quebLinha = substituir_por_espaco(questoes_esp_sem_pont_minus_dig\n",
    "                                                , regex_quebra_linha)\n",
    "\n",
    "quests_esp_sem_esp2 = substituir_por_espaco(quests_esp_sem_quebLinha\n",
    "                                           , regex_espaco)\n",
    "\n",
    "dados_espanhol[\"questoes_tratadas\"] = quests_esp_sem_esp2\n",
    "dados_espanhol.questoes_tratadas[5]"
   ]
  },
  {
   "cell_type": "code",
   "execution_count": 128,
   "id": "e2c3dad2-bf4a-4597-8452-75dbb9488d6a",
   "metadata": {},
   "outputs": [],
   "source": [
    "from nltk.util import bigrams"
   ]
  },
  {
   "cell_type": "code",
   "execution_count": 130,
   "id": "4a462452-8ef8-4ebc-aed5-8d444c10e36a",
   "metadata": {},
   "outputs": [],
   "source": [
    "from nltk.lm.preprocessing import pad_both_ends"
   ]
  },
  {
   "cell_type": "code",
   "execution_count": 129,
   "id": "d6ea98ba-6c59-48e3-a16e-3b6d1fb5bfae",
   "metadata": {},
   "outputs": [
    {
     "name": "stdout",
     "output_type": "stream",
     "text": [
      "[('T', 'e'), ('e', 'n'), ('n', 'h'), ('h', 'a'), ('a', ' '), (' ', 'u'), ('u', 'm'), ('m', ' '), (' ', 'b'), ('b', 'o'), ('o', 'm'), ('m', ' '), (' ', 'd'), ('d', 'i'), ('i', 'a')]\n"
     ]
    }
   ],
   "source": [
    "texto_teste = \"Tenha um bom dia\"\n",
    "print(list(bigrams(texto_teste)))"
   ]
  },
  {
   "cell_type": "code",
   "execution_count": 131,
   "id": "fe46d177-93da-4375-8470-09a7e199c80b",
   "metadata": {},
   "outputs": [
    {
     "name": "stdout",
     "output_type": "stream",
     "text": [
      "[('<s>', 'T'), ('T', 'e'), ('e', 'n'), ('n', 'h'), ('h', 'a'), ('a', ' '), (' ', 'u'), ('u', 'm'), ('m', ' '), (' ', 'b'), ('b', 'o'), ('o', 'm'), ('m', ' '), (' ', 'd'), ('d', 'i'), ('i', 'a'), ('a', '</s>')]\n"
     ]
    }
   ],
   "source": [
    "print(list(bigrams(pad_both_ends(texto_teste, n=2))))"
   ]
  },
  {
   "cell_type": "code",
   "execution_count": 134,
   "id": "2fc32039-bccc-4a27-8ed7-ecd5fbbf0126",
   "metadata": {},
   "outputs": [
    {
     "data": {
      "text/html": [
       "<div>\n",
       "<style scoped>\n",
       "    .dataframe tbody tr th:only-of-type {\n",
       "        vertical-align: middle;\n",
       "    }\n",
       "\n",
       "    .dataframe tbody tr th {\n",
       "        vertical-align: top;\n",
       "    }\n",
       "\n",
       "    .dataframe thead th {\n",
       "        text-align: right;\n",
       "    }\n",
       "</style>\n",
       "<table border=\"1\" class=\"dataframe\">\n",
       "  <thead>\n",
       "    <tr style=\"text-align: right;\">\n",
       "      <th></th>\n",
       "      <th>Id</th>\n",
       "      <th>Título</th>\n",
       "      <th>Questão</th>\n",
       "      <th>Tags</th>\n",
       "      <th>Pontuação</th>\n",
       "      <th>Visualizações</th>\n",
       "      <th>sem_code_tag</th>\n",
       "      <th>questoes_tratadas</th>\n",
       "      <th>idioma</th>\n",
       "    </tr>\n",
       "  </thead>\n",
       "  <tbody>\n",
       "    <tr>\n",
       "      <th>0</th>\n",
       "      <td>2402</td>\n",
       "      <td>Como fazer hash de senhas de forma segura?</td>\n",
       "      <td>&lt;p&gt;Se eu fizer o &lt;em&gt;&lt;a href=\"http://pt.wikipe...</td>\n",
       "      <td>&lt;hash&gt;&lt;segurança&gt;&lt;senhas&gt;&lt;criptografia&gt;</td>\n",
       "      <td>350</td>\n",
       "      <td>22367</td>\n",
       "      <td>Se eu fizer o hash de senhas antes de armazená...</td>\n",
       "      <td>se eu fizer o hash de senhas antes de armazená...</td>\n",
       "      <td>pt</td>\n",
       "    </tr>\n",
       "  </tbody>\n",
       "</table>\n",
       "</div>"
      ],
      "text/plain": [
       "     Id                                      Título  \\\n",
       "0  2402  Como fazer hash de senhas de forma segura?   \n",
       "\n",
       "                                             Questão  \\\n",
       "0  <p>Se eu fizer o <em><a href=\"http://pt.wikipe...   \n",
       "\n",
       "                                      Tags  Pontuação  Visualizações  \\\n",
       "0  <hash><segurança><senhas><criptografia>        350          22367   \n",
       "\n",
       "                                        sem_code_tag  \\\n",
       "0  Se eu fizer o hash de senhas antes de armazená...   \n",
       "\n",
       "                                   questoes_tratadas idioma  \n",
       "0  se eu fizer o hash de senhas antes de armazená...     pt  "
      ]
     },
     "execution_count": 134,
     "metadata": {},
     "output_type": "execute_result"
    }
   ],
   "source": [
    "dados_portugues[\"idioma\"] = \"pt\"\n",
    "dados_espanhol[\"idioma\"] = \"es\"\n",
    "dados_ingles[\"idioma\"] = \"in\"\n",
    "dados_portugues.head(1)"
   ]
  },
  {
   "cell_type": "code",
   "execution_count": 135,
   "id": "ecd91616-2f38-4422-bc32-d07e9bc9d89b",
   "metadata": {},
   "outputs": [],
   "source": [
    "from sklearn.model_selection import train_test_split"
   ]
  },
  {
   "cell_type": "code",
   "execution_count": 137,
   "id": "f4babdf6-2ab3-48fb-90c8-84852e43536b",
   "metadata": {},
   "outputs": [],
   "source": [
    "port_treino, port_teste = train_test_split(dados_portugues.questoes_tratadas\n",
    "                                           , test_size = 0.2\n",
    "                                           , random_state = 123)\n",
    "esp_treino, esp_teste = train_test_split(dados_espanhol.questoes_tratadas\n",
    "                                           , test_size = 0.2\n",
    "                                           , random_state = 123)\n",
    "ing_treino, ing_teste = train_test_split(dados_ingles.questoes_tratadas\n",
    "                                           , test_size = 0.2\n",
    "                                           , random_state = 123)"
   ]
  },
  {
   "cell_type": "code",
   "execution_count": 138,
   "id": "35fd7734-527e-4270-85aa-d899d8ab1244",
   "metadata": {},
   "outputs": [],
   "source": [
    "todas_questoes_port = ' '.join(port_treino)"
   ]
  },
  {
   "cell_type": "code",
   "execution_count": 141,
   "id": "aa90e2c6-f8ea-41cc-8439-80a7563506aa",
   "metadata": {},
   "outputs": [],
   "source": [
    "from nltk.tokenize import WhitespaceTokenizer\n",
    "todas_palavras_port = WhitespaceTokenizer().tokenize(todas_questoes_port)\n",
    "#print(todas_palavras_port)"
   ]
  },
  {
   "cell_type": "code",
   "execution_count": 142,
   "id": "c85612bc-0ac6-4084-9d8f-f4af131d231a",
   "metadata": {},
   "outputs": [],
   "source": [
    "from nltk.lm.preprocessing import padded_everygram_pipeline"
   ]
  },
  {
   "cell_type": "code",
   "execution_count": 159,
   "id": "5dff1668-faa6-45b2-9962-99b375ca8a20",
   "metadata": {},
   "outputs": [],
   "source": [
    "port_treino_bigram, vocab_port = padded_everygram_pipeline(2, todas_palavras_port)"
   ]
  },
  {
   "cell_type": "code",
   "execution_count": 150,
   "id": "9acb9ddd-8961-4f95-b9d2-bcbdd92e5146",
   "metadata": {},
   "outputs": [],
   "source": [
    "from nltk.lm import MLE"
   ]
  },
  {
   "cell_type": "code",
   "execution_count": 160,
   "id": "6af94526-87ca-45c1-a697-68dd8bf3a94d",
   "metadata": {},
   "outputs": [],
   "source": [
    "modelo_port = MLE(2)\n",
    "modelo_port.fit(port_treino_bigram, vocab_port)"
   ]
  },
  {
   "cell_type": "code",
   "execution_count": 161,
   "id": "3e1016ca-08eb-4823-8d1a-ad324aaf5abf",
   "metadata": {},
   "outputs": [
    {
     "name": "stdout",
     "output_type": "stream",
     "text": [
      "dict_items([('</s>', 2741), ('a', 2052), ('b', 144), ('p', 722), ('o', 854), ('e', 1503), ('u', 227), ('v', 16), ('í', 13), ('i', 290), ('ó', 37), ('â', 11), ('l', 23), ('é', 76), ('ú', 5), ('ã', 4), ('á', 32), ('s', 9), ('m', 25), ('g', 4), ('w', 1), ('_', 1), ('y', 10), ('d', 3)])\n"
     ]
    }
   ],
   "source": [
    "from nltk.lm import NgramCounter\n",
    "print(modelo_port.counts[['m']].items())"
   ]
  }
 ],
 "metadata": {
  "kernelspec": {
   "display_name": "Python 3 (ipykernel)",
   "language": "python",
   "name": "python3"
  },
  "language_info": {
   "codemirror_mode": {
    "name": "ipython",
    "version": 3
   },
   "file_extension": ".py",
   "mimetype": "text/x-python",
   "name": "python",
   "nbconvert_exporter": "python",
   "pygments_lexer": "ipython3",
   "version": "3.9.0"
  }
 },
 "nbformat": 4,
 "nbformat_minor": 5
}
