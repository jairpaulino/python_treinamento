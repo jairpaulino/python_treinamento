{
  "nbformat": 4,
  "nbformat_minor": 0,
  "metadata": {
    "colab": {
      "name": "Cópia de nlp_01_imdb-br.ipynb",
      "provenance": [],
      "authorship_tag": "ABX9TyNAft0F9M8ieBpDcoevD2t2",
      "include_colab_link": true
    },
    "kernelspec": {
      "name": "python3",
      "display_name": "Python 3"
    },
    "language_info": {
      "name": "python"
    }
  },
  "cells": [
    {
      "cell_type": "markdown",
      "metadata": {
        "id": "view-in-github",
        "colab_type": "text"
      },
      "source": [
        "<a href=\"https://colab.research.google.com/github/jairpaulino/python_treinamento/blob/main/nlp_01_imdb_br.ipynb\" target=\"_parent\"><img src=\"https://colab.research.google.com/assets/colab-badge.svg\" alt=\"Open In Colab\"/></a>"
      ]
    },
    {
      "cell_type": "code",
      "metadata": {
        "id": "RMr6MCktVjuW"
      },
      "source": [
        "import pandas as pd\n",
        "from sklearn.model_selection import train_test_split\n",
        "from sklearn.linear_model import LogisticRegression"
      ],
      "execution_count": null,
      "outputs": []
    },
    {
      "cell_type": "code",
      "metadata": {
        "id": "kCdeACebXlRO"
      },
      "source": [
        ""
      ],
      "execution_count": null,
      "outputs": []
    },
    {
      "cell_type": "code",
      "metadata": {
        "id": "NKLN_6chWVEq"
      },
      "source": [
        "resenha = pd.read_csv(\"/content/imdb-reviews-pt-br.csv\")\n",
        "resena.head()"
      ],
      "execution_count": null,
      "outputs": []
    },
    {
      "cell_type": "code",
      "metadata": {
        "id": "v4kXADybXMNO"
      },
      "source": [
        "treino, teste, classe_treino, classe_teste = train_test_split(resenha.teste_pt,\n",
        "                                                              resenha.sentiment,\n",
        "                                                              random_state = 123)"
      ],
      "execution_count": null,
      "outputs": []
    },
    {
      "cell_type": "code",
      "metadata": {
        "id": "f4ZYjnFKXqd2"
      },
      "source": [
        "rl = LogisticRegression()\n",
        "rl.fit(treino, classe_treino)\n",
        "acc = rl.score(teste, classe_teste)\n",
        "print(acc)"
      ],
      "execution_count": null,
      "outputs": []
    }
  ]
}