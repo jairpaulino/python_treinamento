{
  "nbformat": 4,
  "nbformat_minor": 0,
  "metadata": {
    "colab": {
      "name": "manipulacao_arquivo_texto.ipynb",
      "provenance": [],
      "authorship_tag": "ABX9TyNmd2P23ByfRocWc6+ot4LA",
      "include_colab_link": true
    },
    "kernelspec": {
      "name": "python3",
      "display_name": "Python 3"
    },
    "language_info": {
      "name": "python"
    }
  },
  "cells": [
    {
      "cell_type": "markdown",
      "metadata": {
        "id": "view-in-github",
        "colab_type": "text"
      },
      "source": [
        "<a href=\"https://colab.research.google.com/github/jairpaulino/python_treinamento/blob/main/manipulacao_arquivo_texto.ipynb\" target=\"_parent\"><img src=\"https://colab.research.google.com/assets/colab-badge.svg\" alt=\"Open In Colab\"/></a>"
      ]
    },
    {
      "cell_type": "markdown",
      "metadata": {
        "id": "-9NrgYevVNuJ"
      },
      "source": [
        "\n",
        "\n",
        "**Exercício 08**: Manipulação de arquivos de texto"
      ]
    },
    {
      "cell_type": "markdown",
      "metadata": {
        "id": "Xio8x0SNVVqk"
      },
      "source": [
        "**Q1:** Considerando o dicionário com o nome dos alunos e suas respectivas notas abaixo, crie uma estrutura de repetição para percorrer cada elemento do dicionário para gravar cada aluno em um novo arquivo de texto\n",
        "* Cada aluno deve ocupar uma linha do novo arquivo de texto\n",
        "* O formato deve ser: nome, nota (Pedro,8.0)\n",
        "* Após a criação do arquivo de texto, faça a leitura do arquivo e mostre todos os alunos\n",
        "\n",
        "alunos = {'Pedro': 8.0, 'Maria': 10.0, 'Amilton': 7.5}"
      ]
    },
    {
      "cell_type": "code",
      "metadata": {
        "colab": {
          "base_uri": "https://localhost:8080/"
        },
        "id": "8p7UhzVlWAXa",
        "outputId": "e12d822a-d612-4f26-a4f3-a3c13733f0da"
      },
      "source": [
        "alunos = {'Pedro': 8.0, 'Maria':10, 'Amilton':7.8}\n",
        "alunos.items()"
      ],
      "execution_count": 13,
      "outputs": [
        {
          "output_type": "execute_result",
          "data": {
            "text/plain": [
              "dict_items([('Pedro', 8.0), ('Maria', 10), ('Amilton', 7.8)])"
            ]
          },
          "metadata": {
            "tags": []
          },
          "execution_count": 13
        }
      ]
    },
    {
      "cell_type": "code",
      "metadata": {
        "id": "8KuDVb5FVBv0"
      },
      "source": [
        "with open('alunos.txt', 'w') as arquivo:\n",
        "  for aluno, nota in alunos.items():\n",
        "    arquivo.write(f'{aluno}, {nota}\\n')"
      ],
      "execution_count": 9,
      "outputs": []
    },
    {
      "cell_type": "code",
      "metadata": {
        "colab": {
          "base_uri": "https://localhost:8080/"
        },
        "id": "c9-u-pqdWaws",
        "outputId": "8b962c82-8c0f-478f-dc4e-d8444e8fd722"
      },
      "source": [
        "with open('alunos.txt', 'r') as arquivo:\n",
        "  for linha in arquivo:\n",
        "    print(linha)"
      ],
      "execution_count": 12,
      "outputs": [
        {
          "output_type": "stream",
          "text": [
            "Pedro, 8.0\n",
            "\n",
            "Maria, 10\n",
            "\n",
            "Amilton, 7.8\n",
            "\n"
          ],
          "name": "stdout"
        }
      ]
    }
  ]
}