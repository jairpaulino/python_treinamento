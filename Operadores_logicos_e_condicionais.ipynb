{
  "nbformat": 4,
  "nbformat_minor": 0,
  "metadata": {
    "colab": {
      "name": "Operadores_logicos_e_condicionais.ipynb",
      "provenance": [],
      "authorship_tag": "ABX9TyMPKcYN4a3osTkWwAh2iH2A",
      "include_colab_link": true
    },
    "kernelspec": {
      "name": "python3",
      "display_name": "Python 3"
    },
    "language_info": {
      "name": "python"
    }
  },
  "cells": [
    {
      "cell_type": "markdown",
      "metadata": {
        "id": "view-in-github",
        "colab_type": "text"
      },
      "source": [
        "<a href=\"https://colab.research.google.com/github/jairpaulino/python_treinamento/blob/main/Operadores_logicos_e_condicionais.ipynb\" target=\"_parent\"><img src=\"https://colab.research.google.com/assets/colab-badge.svg\" alt=\"Open In Colab\"/></a>"
      ]
    },
    {
      "cell_type": "markdown",
      "metadata": {
        "id": "C1CS_I6yoBwN"
      },
      "source": [
        "**Exercícios 02:** Operadores lógicos e condicionais"
      ]
    },
    {
      "cell_type": "markdown",
      "metadata": {
        "id": "emuwpBTnpLdO"
      },
      "source": [
        "**Q01** : Leia a idade do usuário e classifique-o em:\n",
        "\n",
        "*   Criança – 0 a 12 anos\n",
        "*   Adolescente – 13 a 17 anos\n",
        "*   Adulto – acima de 18 anos"
      ]
    },
    {
      "cell_type": "code",
      "metadata": {
        "colab": {
          "base_uri": "https://localhost:8080/"
        },
        "id": "G1AQHic2m6rG",
        "outputId": "2829aee1-bdf3-48af-f2a1-4a0550b53640"
      },
      "source": [
        "idade = int(input('Informe a idade do usuário: '))\n",
        "if idade <= 12:\n",
        "  print('Criança')\n",
        "else:\n",
        "  if idade <= 17:\n",
        "    print('Adolescente')\n",
        "  else: \n",
        "    print('Adulto')"
      ],
      "execution_count": 7,
      "outputs": [
        {
          "output_type": "stream",
          "text": [
            "Informe a idade do usuário: 12\n",
            "Criança\n"
          ],
          "name": "stdout"
        }
      ]
    },
    {
      "cell_type": "markdown",
      "metadata": {
        "id": "3Vzd3tmSpbhJ"
      },
      "source": [
        "**Q02:** Calcular a média de um aluno que cursou a disciplina de Programação I, a partir da leitura das notas M1, M2 e M3; passando por um cálculo da média aritmética. Após a média calculada, devemos anunciar se o aluno foi aprovado, reprovado ou pegou exame\n",
        "\n",
        "*   Se a média estiver entre 0.0 e 4.0, o aluno está reprovado\n",
        "*   Se a média estiver entre 4.1 e 6.0, o aluno pegou exame\n",
        "*   Se a média for maior do que 6.0, o aluno está aprovado\n",
        "*   Se o aluno pegou exame, deve ser lida a nota do exame. Se a nota do exame for maior do que 6.0, está aprovado, senão; está reprovado"
      ]
    },
    {
      "cell_type": "code",
      "metadata": {
        "colab": {
          "base_uri": "https://localhost:8080/"
        },
        "id": "MxvG67BIpsgc",
        "outputId": "2f10d70f-76d1-4470-afa8-95c8c20f1f1b"
      },
      "source": [
        "nota = float(input('Informe a nota do aluno: '))\n",
        "if nota <= 4:\n",
        "  print('Reprovado')\n",
        "else:\n",
        "  if nota <= 6:\n",
        "    print('Exame')\n",
        "    notaExame = float(input('Informe a nota do aluno no exame: '))\n",
        "    if notaExame <= 6:\n",
        "      print('Reprovado')\n",
        "    else:\n",
        "      print('Aprovado')\n",
        "  else: \n",
        "    print('Aprovado')\n"
      ],
      "execution_count": 15,
      "outputs": [
        {
          "output_type": "stream",
          "text": [
            "Informe a nota do aluno: 3\n",
            "Reprovado\n"
          ],
          "name": "stdout"
        }
      ]
    }
  ]
}