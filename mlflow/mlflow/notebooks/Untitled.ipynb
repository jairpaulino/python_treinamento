{
 "cells": [
  {
   "cell_type": "code",
   "execution_count": null,
   "id": "18f40c8e-a8f4-4fc5-894a-96e9d82b3dbe",
   "metadata": {},
   "outputs": [],
   "source": []
  }
 ],
 "metadata": {
  "kernelspec": {
   "display_name": "",
   "name": ""
  },
  "language_info": {
   "name": ""
  }
 },
 "nbformat": 4,
 "nbformat_minor": 5
}
