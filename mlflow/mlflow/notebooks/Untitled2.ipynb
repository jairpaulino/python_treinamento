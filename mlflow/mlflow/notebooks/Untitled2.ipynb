{
 "cells": [
  {
   "cell_type": "code",
   "execution_count": 5,
   "id": "ab2b70e0-fab0-4cc1-9823-28c380ef9d57",
   "metadata": {},
   "outputs": [],
   "source": [
    "import pandas as pd"
   ]
  },
  {
   "cell_type": "code",
   "execution_count": 6,
   "id": "1ee20f92-b5db-4b0f-8f89-03ed64690d72",
   "metadata": {},
   "outputs": [
    {
     "data": {
      "text/html": [
       "<div>\n",
       "<style scoped>\n",
       "    .dataframe tbody tr th:only-of-type {\n",
       "        vertical-align: middle;\n",
       "    }\n",
       "\n",
       "    .dataframe tbody tr th {\n",
       "        vertical-align: top;\n",
       "    }\n",
       "\n",
       "    .dataframe thead th {\n",
       "        text-align: right;\n",
       "    }\n",
       "</style>\n",
       "<table border=\"1\" class=\"dataframe\">\n",
       "  <thead>\n",
       "    <tr style=\"text-align: right;\">\n",
       "      <th></th>\n",
       "      <th>tamanho</th>\n",
       "      <th>ano</th>\n",
       "      <th>garagem</th>\n",
       "      <th>preco</th>\n",
       "    </tr>\n",
       "  </thead>\n",
       "  <tbody>\n",
       "    <tr>\n",
       "      <th>0</th>\n",
       "      <td>159.0</td>\n",
       "      <td>2003</td>\n",
       "      <td>2</td>\n",
       "      <td>208500</td>\n",
       "    </tr>\n",
       "    <tr>\n",
       "      <th>1</th>\n",
       "      <td>117.0</td>\n",
       "      <td>1976</td>\n",
       "      <td>2</td>\n",
       "      <td>181500</td>\n",
       "    </tr>\n",
       "    <tr>\n",
       "      <th>2</th>\n",
       "      <td>166.0</td>\n",
       "      <td>2001</td>\n",
       "      <td>2</td>\n",
       "      <td>223500</td>\n",
       "    </tr>\n",
       "    <tr>\n",
       "      <th>3</th>\n",
       "      <td>160.0</td>\n",
       "      <td>1915</td>\n",
       "      <td>3</td>\n",
       "      <td>140000</td>\n",
       "    </tr>\n",
       "    <tr>\n",
       "      <th>4</th>\n",
       "      <td>204.0</td>\n",
       "      <td>2000</td>\n",
       "      <td>3</td>\n",
       "      <td>250000</td>\n",
       "    </tr>\n",
       "  </tbody>\n",
       "</table>\n",
       "</div>"
      ],
      "text/plain": [
       "   tamanho   ano  garagem   preco\n",
       "0    159.0  2003        2  208500\n",
       "1    117.0  1976        2  181500\n",
       "2    166.0  2001        2  223500\n",
       "3    160.0  1915        3  140000\n",
       "4    204.0  2000        3  250000"
      ]
     },
     "execution_count": 6,
     "metadata": {},
     "output_type": "execute_result"
    }
   ],
   "source": [
    "df = pd.read_csv('casas.csv')\n",
    "df.head()"
   ]
  },
  {
   "cell_type": "code",
   "execution_count": 7,
   "id": "cc92f1f7-ea29-4d11-8cf1-d38b0c405025",
   "metadata": {},
   "outputs": [],
   "source": [
    "X = df.drop('preco', axis=1)\n",
    "y = df['preco'].copy()"
   ]
  },
  {
   "cell_type": "code",
   "execution_count": 57,
   "id": "64be388e-764d-4ad8-bb28-3c4a77473d9c",
   "metadata": {},
   "outputs": [],
   "source": [
    "from sklearn.model_selection import train_test_split\n",
    "X_train, X_test, y_train, y_test = train_test_split(X, y, test_size=0.3, random_state=42)"
   ]
  },
  {
   "cell_type": "code",
   "execution_count": 13,
   "id": "8f56d595-ed70-492a-922e-c68c37cbcf1a",
   "metadata": {},
   "outputs": [
    {
     "data": {
      "text/plain": [
       "(1022, 3)"
      ]
     },
     "execution_count": 13,
     "metadata": {},
     "output_type": "execute_result"
    }
   ],
   "source": [
    "X_train.shape"
   ]
  },
  {
   "cell_type": "code",
   "execution_count": 72,
   "id": "1b4bc982-3ece-431a-aff7-fce4f064da05",
   "metadata": {},
   "outputs": [],
   "source": [
    "import mlflow"
   ]
  },
  {
   "cell_type": "code",
   "execution_count": 71,
   "id": "83747430-2f71-4545-8200-66177b57000a",
   "metadata": {},
   "outputs": [
    {
     "name": "stdout",
     "output_type": "stream",
     "text": [
      "INFO: 'house-prices-eda' does not exist. Creating a new experiment\n"
     ]
    }
   ],
   "source": [
    "mlflow.set_experiment('house-prices-eda')"
   ]
  },
  {
   "cell_type": "markdown",
   "id": "df87c43f-fe12-4848-80d9-f1decc6ff3ce",
   "metadata": {},
   "source": [
    "# Linear regression"
   ]
  },
  {
   "cell_type": "code",
   "execution_count": 74,
   "id": "06a841cd-12cd-4e59-b104-cc4c729f5816",
   "metadata": {},
   "outputs": [
    {
     "data": {
      "text/plain": [
       "<ActiveRun: >"
      ]
     },
     "execution_count": 74,
     "metadata": {},
     "output_type": "execute_result"
    }
   ],
   "source": [
    "mlflow.start_run()"
   ]
  },
  {
   "cell_type": "code",
   "execution_count": 81,
   "id": "abdeb3bc-747b-44f9-b38b-88d65b03e30e",
   "metadata": {},
   "outputs": [
    {
     "data": {
      "text/plain": [
       "LinearRegression()"
      ]
     },
     "execution_count": 81,
     "metadata": {},
     "output_type": "execute_result"
    }
   ],
   "source": [
    "from sklearn.linear_model import LinearRegression\n",
    "\n",
    "lr  = LinearRegression()\n",
    "lr.fit(X_train, y_train)"
   ]
  },
  {
   "cell_type": "code",
   "execution_count": 82,
   "id": "a8fc5618-6b25-46a9-b95a-3131acceaa13",
   "metadata": {},
   "outputs": [],
   "source": [
    "mlflow.sklearn.log_model(lr, 'lr')"
   ]
  },
  {
   "cell_type": "code",
   "execution_count": 36,
   "id": "30f47e64-9935-4f1e-894a-8ecb7d375e43",
   "metadata": {},
   "outputs": [],
   "source": [
    "lr_predicted = lr.predict(X_test)"
   ]
  },
  {
   "cell_type": "code",
   "execution_count": 25,
   "id": "4a4a20dd-a689-4a36-8055-9d9717b3152c",
   "metadata": {},
   "outputs": [
    {
     "data": {
      "text/plain": [
       "tamanho      99.0\n",
       "ano        1963.0\n",
       "garagem       1.0\n",
       "Name: 892, dtype: float64"
      ]
     },
     "execution_count": 25,
     "metadata": {},
     "output_type": "execute_result"
    }
   ],
   "source": [
    "X_test.iloc[0]"
   ]
  },
  {
   "cell_type": "code",
   "execution_count": 27,
   "id": "2f9f3d5a-2265-4487-bf1d-a5ef3a8b7cc8",
   "metadata": {},
   "outputs": [
    {
     "data": {
      "text/plain": [
       "154500"
      ]
     },
     "execution_count": 27,
     "metadata": {},
     "output_type": "execute_result"
    }
   ],
   "source": [
    "y_test.iloc[0]"
   ]
  },
  {
   "cell_type": "code",
   "execution_count": 43,
   "id": "04c025d6-ff1d-4a21-9e72-8c2978dff816",
   "metadata": {},
   "outputs": [],
   "source": [
    "from sklearn.metrics import mean_squared_error, r2_score\n",
    "import math"
   ]
  },
  {
   "cell_type": "code",
   "execution_count": 83,
   "id": "eb614a75-c8f3-4ae9-af8b-27489d14bced",
   "metadata": {},
   "outputs": [],
   "source": [
    "mse = mean_squared_error(y_test, lr_predicted)\n",
    "rmse = math.sqrt(mse)\n",
    "r2 = r2_score(y_test, lr_predicted)\n",
    "mlflow.log_metric('mse', mse)\n",
    "mlflow.log_metric('rmse', rmse)\n",
    "mlflow.log_metric('r2', r2)"
   ]
  },
  {
   "cell_type": "code",
   "execution_count": 92,
   "id": "3acb740f-7e06-496f-b28a-61d2ab9e4379",
   "metadata": {},
   "outputs": [],
   "source": [
    "mlflow.end_run()"
   ]
  },
  {
   "cell_type": "code",
   "execution_count": 47,
   "id": "d47d40ee-a3a9-46e9-b21d-5f80abbaf76e",
   "metadata": {},
   "outputs": [
    {
     "name": "stdout",
     "output_type": "stream",
     "text": [
      "Collecting xgboost\n",
      "  Downloading xgboost-1.4.2-py3-none-win_amd64.whl (97.8 MB)\n",
      "Requirement already satisfied: numpy in c:\\users\\jairp\\appdata\\local\\programs\\python\\python39\\lib\\site-packages (from xgboost) (1.20.3)\n",
      "Requirement already satisfied: scipy in c:\\users\\jairp\\appdata\\local\\programs\\python\\python39\\lib\\site-packages (from xgboost) (1.7.1)\n",
      "Installing collected packages: xgboost\n",
      "Successfully installed xgboost-1.4.2\n"
     ]
    },
    {
     "name": "stderr",
     "output_type": "stream",
     "text": [
      "WARNING: You are using pip version 21.1.2; however, version 21.2.4 is available.\n",
      "You should consider upgrading via the 'c:\\users\\jairp\\appdata\\local\\programs\\python\\python39\\python.exe -m pip install --upgrade pip' command.\n"
     ]
    }
   ],
   "source": [
    "#!pip install xgboost"
   ]
  },
  {
   "cell_type": "code",
   "execution_count": 86,
   "id": "ee1a28f0-0fcc-47ab-9748-3487a41de8dc",
   "metadata": {},
   "outputs": [],
   "source": [
    "from xgboost import XGBRFRegressor, XGBRegressor"
   ]
  },
  {
   "cell_type": "code",
   "execution_count": 99,
   "id": "8543f9e4-a02e-4bcd-beac-4363bc2bd17d",
   "metadata": {},
   "outputs": [],
   "source": [
    "xgb_params = {\n",
    "    'learning_rate':0.2,\n",
    "    'n_estimators':50,\n",
    "    'random_state':42\n",
    "}\n",
    "\n",
    "with mlflow.start_run():\n",
    "    xgb = XGBRegressor(**xgb_params)\n",
    "    xgb.fit(X_train, y_train)\n",
    "    mlflow.xgboost.log_model(xgb, 'xgboost')\n",
    "    xgb_predicted = xgb.predict(X_test)\n",
    "    mse = mean_squared_error(y_test, xgb_predicted)\n",
    "    rmse = math.sqrt(mse)\n",
    "    r2 = r2_score(y_test, xgb_predicted)\n",
    "    mlflow.log_metric('mse', mse)\n",
    "    mlflow.log_metric('rmse', rmse)\n",
    "    mlflow.log_metric('r2', r2)"
   ]
  },
  {
   "cell_type": "code",
   "execution_count": 89,
   "id": "f063a08d-cbfb-4c6a-94ae-0e8ee406b505",
   "metadata": {},
   "outputs": [
    {
     "data": {
      "text/plain": [
       "XGBRegressor(base_score=0.5, booster='gbtree', colsample_bylevel=1,\n",
       "             colsample_bynode=1, colsample_bytree=1, gamma=0, gpu_id=-1,\n",
       "             importance_type='gain', interaction_constraints='',\n",
       "             learning_rate=0.300000012, max_delta_step=0, max_depth=6,\n",
       "             min_child_weight=1, missing=nan, monotone_constraints='()',\n",
       "             n_estimators=100, n_jobs=4, num_parallel_tree=1, random_state=42,\n",
       "             reg_alpha=0, reg_lambda=1, scale_pos_weight=1, subsample=1,\n",
       "             tree_method='exact', validate_parameters=1, verbosity=None)"
      ]
     },
     "execution_count": 89,
     "metadata": {},
     "output_type": "execute_result"
    }
   ],
   "source": []
  },
  {
   "cell_type": "code",
   "execution_count": 63,
   "id": "33954299-1eff-4724-a77c-ba1f7d067247",
   "metadata": {},
   "outputs": [
    {
     "data": {
      "text/plain": [
       "(1022, 3)"
      ]
     },
     "execution_count": 63,
     "metadata": {},
     "output_type": "execute_result"
    }
   ],
   "source": [
    "X_train.shape"
   ]
  },
  {
   "cell_type": "code",
   "execution_count": 90,
   "id": "beb5c492-eb10-44b7-a95f-49d020986d54",
   "metadata": {},
   "outputs": [
    {
     "data": {
      "text/plain": [
       "0.7777593557411607"
      ]
     },
     "execution_count": 90,
     "metadata": {},
     "output_type": "execute_result"
    }
   ],
   "source": [
    "xgb_predicted = xgb.predict(X_test)\n",
    "mse = mean_squared_error(y_test, xgb_predicted)\n",
    "rmse = math.sqrt(mse)\n",
    "r2 = r2_score(y_test, xgb_predicted)\n",
    "r2"
   ]
  },
  {
   "cell_type": "code",
   "execution_count": 100,
   "id": "b84d361f-d305-4b41-9797-7d0d40f83c33",
   "metadata": {},
   "outputs": [
    {
     "data": {
      "text/plain": [
       "<Experiment: artifact_location='file:///C:/Users/jairp/Documents/GitHub/python_treinamento/mlflow/mlflow/notebooks/mlruns/1', experiment_id='1', lifecycle_stage='active', name='house-prices-eda', tags={}>"
      ]
     },
     "execution_count": 100,
     "metadata": {},
     "output_type": "execute_result"
    }
   ],
   "source": [
    "mlflow.get_experiment_by_name('house-prices-eda')"
   ]
  },
  {
   "cell_type": "code",
   "execution_count": 101,
   "id": "ef3d2dfe-cbff-4add-93a0-e64ad4afc5f9",
   "metadata": {},
   "outputs": [
    {
     "data": {
      "text/plain": [
       "[<RunInfo: artifact_uri='file:///C:/Users/jairp/Documents/GitHub/python_treinamento/mlflow/mlflow/notebooks/mlruns/1/08116771e762429f93e8af10beb866e8/artifacts', end_time=1633983335971, experiment_id='1', lifecycle_stage='active', run_id='08116771e762429f93e8af10beb866e8', run_uuid='08116771e762429f93e8af10beb866e8', start_time=1633983329715, status='FINISHED', user_id='jairp'>,\n",
       " <RunInfo: artifact_uri='file:///C:/Users/jairp/Documents/GitHub/python_treinamento/mlflow/mlflow/notebooks/mlruns/1/2d4227583f04464db8379efa0b34bea6/artifacts', end_time=1633983119110, experiment_id='1', lifecycle_stage='active', run_id='2d4227583f04464db8379efa0b34bea6', run_uuid='2d4227583f04464db8379efa0b34bea6', start_time=1633983114419, status='FINISHED', user_id='jairp'>,\n",
       " <RunInfo: artifact_uri='file:///C:/Users/jairp/Documents/GitHub/python_treinamento/mlflow/mlflow/notebooks/mlruns/1/1258f2db7aca4c4ea4c90e7c9e02c241/artifacts', end_time=1633983083984, experiment_id='1', lifecycle_stage='active', run_id='1258f2db7aca4c4ea4c90e7c9e02c241', run_uuid='1258f2db7aca4c4ea4c90e7c9e02c241', start_time=1633983079219, status='FAILED', user_id='jairp'>,\n",
       " <RunInfo: artifact_uri='file:///C:/Users/jairp/Documents/GitHub/python_treinamento/mlflow/mlflow/notebooks/mlruns/1/a4352f8433404238a1f5172f7bb60c95/artifacts', end_time=1633983044220, experiment_id='1', lifecycle_stage='active', run_id='a4352f8433404238a1f5172f7bb60c95', run_uuid='a4352f8433404238a1f5172f7bb60c95', start_time=1633983039378, status='FAILED', user_id='jairp'>,\n",
       " <RunInfo: artifact_uri='file:///C:/Users/jairp/Documents/GitHub/python_treinamento/mlflow/mlflow/notebooks/mlruns/1/d16334b379194b22a7537612eaf17244/artifacts', end_time=1633982748918, experiment_id='1', lifecycle_stage='active', run_id='d16334b379194b22a7537612eaf17244', run_uuid='d16334b379194b22a7537612eaf17244', start_time=1633982199359, status='FINISHED', user_id='jairp'>]"
      ]
     },
     "execution_count": 101,
     "metadata": {},
     "output_type": "execute_result"
    }
   ],
   "source": [
    "mlflow.list_run_infos('1')"
   ]
  },
  {
   "cell_type": "code",
   "execution_count": 102,
   "id": "ca8f7139-7e92-422e-948b-8bf2a75e8e56",
   "metadata": {},
   "outputs": [
    {
     "data": {
      "text/plain": [
       "<Run: data=<RunData: metrics={'mse': 1550816053.129738, 'r2': 0.7777593557411607, 'rmse': 39380.40189141977}, params={}, tags={'mlflow.log-model.history': '[{\"run_id\": \"2d4227583f04464db8379efa0b34bea6\", '\n",
       "                             '\"artifact_path\": \"xgboost\", \"utc_time_created\": '\n",
       "                             '\"2021-10-11 20:11:54.720867\", \"flavors\": '\n",
       "                             '{\"python_function\": {\"loader_module\": '\n",
       "                             '\"mlflow.xgboost\", \"python_version\": \"3.9.0\", '\n",
       "                             '\"data\": \"model.xgb\", \"env\": \"conda.yaml\"}, '\n",
       "                             '\"xgboost\": {\"xgb_version\": \"1.4.2\", \"data\": '\n",
       "                             '\"model.xgb\"}}}]',\n",
       " 'mlflow.source.name': 'c:\\\\users\\\\jairp\\\\appdata\\\\local\\\\programs\\\\python\\\\python39\\\\lib\\\\site-packages\\\\ipykernel_launcher.py',\n",
       " 'mlflow.source.type': 'LOCAL',\n",
       " 'mlflow.user': 'jairp'}>, info=<RunInfo: artifact_uri='file:///C:/Users/jairp/Documents/GitHub/python_treinamento/mlflow/mlflow/notebooks/mlruns/1/2d4227583f04464db8379efa0b34bea6/artifacts', end_time=1633983119110, experiment_id='1', lifecycle_stage='active', run_id='2d4227583f04464db8379efa0b34bea6', run_uuid='2d4227583f04464db8379efa0b34bea6', start_time=1633983114419, status='FINISHED', user_id='jairp'>>"
      ]
     },
     "execution_count": 102,
     "metadata": {},
     "output_type": "execute_result"
    }
   ],
   "source": [
    "mlflow.get_run('2d4227583f04464db8379efa0b34bea6')"
   ]
  }
 ],
 "metadata": {
  "kernelspec": {
   "display_name": "Python 3 (ipykernel)",
   "language": "python",
   "name": "python3"
  },
  "language_info": {
   "codemirror_mode": {
    "name": "ipython",
    "version": 3
   },
   "file_extension": ".py",
   "mimetype": "text/x-python",
   "name": "python",
   "nbconvert_exporter": "python",
   "pygments_lexer": "ipython3",
   "version": "3.9.0"
  }
 },
 "nbformat": 4,
 "nbformat_minor": 5
}
