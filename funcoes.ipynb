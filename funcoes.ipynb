{
  "nbformat": 4,
  "nbformat_minor": 0,
  "metadata": {
    "colab": {
      "name": "funcoes.ipynb",
      "provenance": [],
      "authorship_tag": "ABX9TyNWsQMC+t898xz/TgOI6S1o",
      "include_colab_link": true
    },
    "kernelspec": {
      "name": "python3",
      "display_name": "Python 3"
    },
    "language_info": {
      "name": "python"
    }
  },
  "cells": [
    {
      "cell_type": "markdown",
      "metadata": {
        "id": "view-in-github",
        "colab_type": "text"
      },
      "source": [
        "<a href=\"https://colab.research.google.com/github/jairpaulino/python_treinamento/blob/main/funcoes.ipynb\" target=\"_parent\"><img src=\"https://colab.research.google.com/assets/colab-badge.svg\" alt=\"Open In Colab\"/></a>"
      ]
    },
    {
      "cell_type": "markdown",
      "metadata": {
        "id": "edpHc1_l5A6D"
      },
      "source": [
        "**Exercícios 05:** Funções"
      ]
    },
    {
      "cell_type": "markdown",
      "metadata": {
        "id": "D2iCiSSz5AwZ"
      },
      "source": [
        "**Q01**: Ler uma temperatura em graus Celsius e apresentá-la convertida em graus Fahrenheit. A fórmula de conversão é F = (9 * C + 160) / 5, na qual F é a temperatura em Fahrenheit e C é a temperatura em graus Celsius\n",
        "* Função para ler e retorna o valor da temperatura (não recebe parâmetro)\n",
        "* Função para fazer o cálculo (recebe como parâmetro a temperatura em graus Celsius)\n",
        "* Função para mostrar o resultado, recebendo como parâmetro o valor e fazendo a impressão"
      ]
    },
    {
      "cell_type": "code",
      "metadata": {
        "id": "gA9VJSXa40o2"
      },
      "source": [
        "def lerTemperatura():\n",
        "  temp = float(input(print(\"Informe a temperatura: \")))\n",
        "  return temp"
      ],
      "execution_count": 3,
      "outputs": []
    },
    {
      "cell_type": "code",
      "metadata": {
        "colab": {
          "base_uri": "https://localhost:8080/"
        },
        "id": "MdKuWAgM6nC4",
        "outputId": "ffd444ba-4e5e-4a3c-bd26-c0374a5a1759"
      },
      "source": [
        "lerTemperatura()"
      ],
      "execution_count": 4,
      "outputs": [
        {
          "output_type": "stream",
          "text": [
            "Informe a temperatura: \n",
            "35\n"
          ],
          "name": "stdout"
        },
        {
          "output_type": "execute_result",
          "data": {
            "text/plain": [
              "35.0"
            ]
          },
          "metadata": {
            "tags": []
          },
          "execution_count": 4
        }
      ]
    },
    {
      "cell_type": "code",
      "metadata": {
        "id": "m7BaZ5y061yZ"
      },
      "source": [
        "def converterTemp(temp):\n",
        "  f = (9 * temp + 160)/5\n",
        "  return f"
      ],
      "execution_count": 5,
      "outputs": []
    },
    {
      "cell_type": "code",
      "metadata": {
        "colab": {
          "base_uri": "https://localhost:8080/"
        },
        "id": "cdeFsvQm7FWK",
        "outputId": "58a4fedf-0b08-45b6-a5f0-b66d33a2324d"
      },
      "source": [
        "converterTemp(100)"
      ],
      "execution_count": 7,
      "outputs": [
        {
          "output_type": "execute_result",
          "data": {
            "text/plain": [
              "212.0"
            ]
          },
          "metadata": {
            "tags": []
          },
          "execution_count": 7
        }
      ]
    },
    {
      "cell_type": "code",
      "metadata": {
        "id": "Pz19nwdM7JfD"
      },
      "source": [
        "def informarResultado(temp):\n",
        "  print(\"A temperatura em F é: {:.2f}.\".format(temp))"
      ],
      "execution_count": 14,
      "outputs": []
    },
    {
      "cell_type": "code",
      "metadata": {
        "colab": {
          "base_uri": "https://localhost:8080/"
        },
        "id": "sNo_YzqB7T8V",
        "outputId": "38f1be20-3a1d-4da5-c4fe-c5bd66a31829"
      },
      "source": [
        "informarResultado(temp = converterTemp(0))"
      ],
      "execution_count": 16,
      "outputs": [
        {
          "output_type": "stream",
          "text": [
            "A temperatura em F é: 32.00.\n"
          ],
          "name": "stdout"
        }
      ]
    },
    {
      "cell_type": "markdown",
      "metadata": {
        "id": "JAiNHmiJ5Qd-"
      },
      "source": [
        "**Q02**: Efetuar o cálculo da quantidade de litros de combustível gasto em uma viagem, utilizando um automóvel que faz 12 Km por litro. Para obter o cálculo, o usuário deve fornecer o tempo gasto na viagem e a velocidade média durante ela. Desta forma, será possível obter a distância percorrida com a fórmula DISTANCIA = TEMPO * VELOCIDADE. Tendo o valor da distância, basta calcular a quantidade de litros de combustível utilizada na viagem, com a fórmula: LITROS_USADOS = DISTANCIA / 12. O programa deve apresentar os valores da velocidade média, tempo gasto na viagem, a distância percorrida e a quantidade de litros utilizada na viagem\n",
        "* Função para ler os valores (não recebe parâmetro e retorna os dois valores)\n",
        "* Função para calcular a distância (recebe como parâmetro o tempo e a velocidade e retorna a distância)\n",
        "* Função para calcular a quantidade de litros (recebe como parâmetro a distância e retorna os litros)\n",
        "* Função para apresentar o resultado (recebe como parâmetro os valores e somente imprime o resultado)"
      ]
    },
    {
      "cell_type": "code",
      "metadata": {
        "id": "RVUB2Ka87yVY"
      },
      "source": [
        "def lerValores():\n",
        "  tempo = float(input(print(\"Qual o tempo gasto na viagem (em horas)? \")))\n",
        "  velocidade = float(input(print(\"Qual a velocidade média (em km/h)? \")))\n",
        "  return tempo, velocidade"
      ],
      "execution_count": 18,
      "outputs": []
    },
    {
      "cell_type": "code",
      "metadata": {
        "id": "JPS8B4nH8aNO"
      },
      "source": [
        "def calcDist(tempo, velocidade):\n",
        "  dist = tempo * velocidade\n",
        "  return dist"
      ],
      "execution_count": 21,
      "outputs": []
    },
    {
      "cell_type": "code",
      "metadata": {
        "id": "4n5XYzCv9aWq"
      },
      "source": [
        "def calcConsumo(dist):\n",
        "  consumo = dist/12\n",
        "  return consumo"
      ],
      "execution_count": 37,
      "outputs": []
    },
    {
      "cell_type": "code",
      "metadata": {
        "id": "Kd796Exr9u33"
      },
      "source": [
        "def inforResultado(tempo, velocidade, dist, consumo):\n",
        "  print(\"Tempo: {} horas.\".format(tempo))\n",
        "  print(\"Velocidade: {} km/h.\".format(velocidade))\n",
        "  print(\"Distância: {} km.\".format(dist))\n",
        "  print(\"Consumo: {} litros.\".format(round(consumo,2)))\n"
      ],
      "execution_count": 45,
      "outputs": []
    },
    {
      "cell_type": "code",
      "metadata": {
        "colab": {
          "base_uri": "https://localhost:8080/"
        },
        "id": "5_5XjlA68mOm",
        "outputId": "2a2da43a-4f0f-42c1-aacc-e2bf655957ef"
      },
      "source": [
        "t, v = lerValores()\n",
        "dist = calcDist(t, v)\n",
        "consumo = calcConsumo(dist)\n",
        "inforResultado(t, v, dist, consumo)"
      ],
      "execution_count": 46,
      "outputs": [
        {
          "output_type": "stream",
          "text": [
            "Qual o tempo gasto na viagem? \n",
            "2\n",
            "Qual a velocidade média? \n",
            "80\n",
            "Tempo: 2.0 horas.\n",
            "Velocidade: 80.0 km/h.\n",
            "Distância: 160.0 km.\n",
            "Consumo: 13.33 litros.\n"
          ],
          "name": "stdout"
        }
      ]
    },
    {
      "cell_type": "code",
      "metadata": {
        "colab": {
          "base_uri": "https://localhost:8080/"
        },
        "id": "l-8NHDn59Ce4",
        "outputId": "de11cdbb-4719-4ddb-acb6-4b7076100ce5"
      },
      "source": [
        "valores[0]\n"
      ],
      "execution_count": 35,
      "outputs": [
        {
          "output_type": "execute_result",
          "data": {
            "text/plain": [
              "5.0"
            ]
          },
          "metadata": {
            "tags": []
          },
          "execution_count": 35
        }
      ]
    }
  ]
}