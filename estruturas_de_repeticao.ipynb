{
  "nbformat": 4,
  "nbformat_minor": 0,
  "metadata": {
    "colab": {
      "name": "estruturas_de_repeticao.ipynb",
      "provenance": [],
      "authorship_tag": "ABX9TyO0Gn4y9FR5+npv3oA+p0VS",
      "include_colab_link": true
    },
    "kernelspec": {
      "name": "python3",
      "display_name": "Python 3"
    },
    "language_info": {
      "name": "python"
    }
  },
  "cells": [
    {
      "cell_type": "markdown",
      "metadata": {
        "id": "view-in-github",
        "colab_type": "text"
      },
      "source": [
        "<a href=\"https://colab.research.google.com/github/jairpaulino/python_treinamento/blob/main/estruturas_de_repeticao.ipynb\" target=\"_parent\"><img src=\"https://colab.research.google.com/assets/colab-badge.svg\" alt=\"Open In Colab\"/></a>"
      ]
    },
    {
      "cell_type": "markdown",
      "metadata": {
        "id": "t846Op1NtG-T"
      },
      "source": [
        "Exercícios 03 - Estruturas de repetição"
      ]
    },
    {
      "cell_type": "markdown",
      "metadata": {
        "id": "UIeg9xcEs4P3"
      },
      "source": [
        "**Q01**: Ler 5 notas e informar a média"
      ]
    },
    {
      "cell_type": "code",
      "metadata": {
        "colab": {
          "base_uri": "https://localhost:8080/"
        },
        "id": "vXSp17gHtGyG",
        "outputId": "8a82f071-9da5-4810-cb65-b91c2a8c8166"
      },
      "source": [
        "somaNota = 0\n",
        "for nota in range(1, 6):\n",
        "  somaNota += float(input(f'Informe a nota {nota}:'))\n",
        "\n",
        "media = somaNota/nota\n",
        "print(\"A média das notas foi {:.2f}\".format(media))\n"
      ],
      "execution_count": 11,
      "outputs": [
        {
          "output_type": "stream",
          "text": [
            "Informe a nota 1:5\n",
            "Informe a nota 2:6\n",
            "Informe a nota 3:7\n",
            "Informe a nota 4:8\n",
            "Informe a nota 5:9\n",
            "A média das notas foi 7.00\n"
          ],
          "name": "stdout"
        }
      ]
    },
    {
      "cell_type": "markdown",
      "metadata": {
        "id": "T8hs-FGqs_tE"
      },
      "source": [
        "**Q02**: Imprimir a tabuada do número 3 (3 x 1 = 1 – 3 x 10 = 30)\n",
        "\n"
      ]
    },
    {
      "cell_type": "code",
      "metadata": {
        "colab": {
          "base_uri": "https://localhost:8080/"
        },
        "id": "q6jRnVfFsxNw",
        "outputId": "f10db3dd-d070-4119-b4d4-59e4b748720c"
      },
      "source": [
        "numero = 1\n",
        "while numero <= 10:\n",
        "  print(f\"3 x {numero} = {numero*3}\")\n",
        "  numero += 1\n"
      ],
      "execution_count": 15,
      "outputs": [
        {
          "output_type": "stream",
          "text": [
            "3 x 1 = 3\n",
            "3 x 2 = 6\n",
            "3 x 3 = 9\n",
            "3 x 4 = 12\n",
            "3 x 5 = 15\n",
            "3 x 6 = 18\n",
            "3 x 7 = 21\n",
            "3 x 8 = 24\n",
            "3 x 9 = 27\n",
            "3 x 10 = 30\n"
          ],
          "name": "stdout"
        }
      ]
    }
  ]
}