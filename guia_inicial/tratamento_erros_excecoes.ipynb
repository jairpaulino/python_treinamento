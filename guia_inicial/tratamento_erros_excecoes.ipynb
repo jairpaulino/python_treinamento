{
  "nbformat": 4,
  "nbformat_minor": 0,
  "metadata": {
    "colab": {
      "name": "tratamento_erros_excecoes.ipynb",
      "provenance": [],
      "authorship_tag": "ABX9TyPN4k2twKChinuv3OYWmO0/",
      "include_colab_link": true
    },
    "kernelspec": {
      "name": "python3",
      "display_name": "Python 3"
    },
    "language_info": {
      "name": "python"
    }
  },
  "cells": [
    {
      "cell_type": "markdown",
      "metadata": {
        "id": "view-in-github",
        "colab_type": "text"
      },
      "source": [
        "<a href=\"https://colab.research.google.com/github/jairpaulino/python_treinamento/blob/main/tratamento_erros_excecoes.ipynb\" target=\"_parent\"><img src=\"https://colab.research.google.com/assets/colab-badge.svg\" alt=\"Open In Colab\"/></a>"
      ]
    },
    {
      "cell_type": "markdown",
      "metadata": {
        "id": "q_zONsV5SGZS"
      },
      "source": [
        "**Exercício 07:** Tratamento de erros e excessões"
      ]
    },
    {
      "cell_type": "markdown",
      "metadata": {
        "id": "Fw92ssLYSOWs"
      },
      "source": [
        "**Q1:** "
      ]
    },
    {
      "cell_type": "code",
      "metadata": {
        "colab": {
          "base_uri": "https://localhost:8080/"
        },
        "id": "I-Mw0TQxSAK1",
        "outputId": "cddd09b1-3d5a-46df-bb8e-1d3039def572"
      },
      "source": [
        "lista = []\n",
        "try:\n",
        "  lista.append(float(input('Digite o primeiro valor: ')))\n",
        "  lista.append(float(input('Digite o segundo valor: ')))\n",
        "  divisao = (lista[0]/lista[1])\n",
        "except ValueError:\n",
        "  print('Erro! Valor inválido.')\n",
        "except ZeroDivisionError:\n",
        "  print('Erro! Divisão por Zero.')\n",
        "except IndexError:\n",
        "  print('Erro! Índice inválido.')\n",
        "except KeyboardInterrupt:\n",
        "  print('Usário interrompeu a execução.')\n",
        "else:\n",
        "  print(f'A divisão é {round(divisao, 2)}')\n",
        "\n"
      ],
      "execution_count": 12,
      "outputs": [
        {
          "output_type": "stream",
          "text": [
            "Digite o primeiro valor: 2\n",
            "Usário interrompeu a execução.\n"
          ],
          "name": "stdout"
        }
      ]
    }
  ]
}