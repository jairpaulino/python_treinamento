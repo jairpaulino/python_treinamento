{
  "nbformat": 4,
  "nbformat_minor": 0,
  "metadata": {
    "colab": {
      "name": "modulos_uteis.ipynb",
      "provenance": [],
      "authorship_tag": "ABX9TyMI2IUzOku35I0njZGcS2+1",
      "include_colab_link": true
    },
    "kernelspec": {
      "name": "python3",
      "display_name": "Python 3"
    },
    "language_info": {
      "name": "python"
    }
  },
  "cells": [
    {
      "cell_type": "markdown",
      "metadata": {
        "id": "view-in-github",
        "colab_type": "text"
      },
      "source": [
        "<a href=\"https://colab.research.google.com/github/jairpaulino/python_treinamento/blob/main/modulos_uteis.ipynb\" target=\"_parent\"><img src=\"https://colab.research.google.com/assets/colab-badge.svg\" alt=\"Open In Colab\"/></a>"
      ]
    },
    {
      "cell_type": "markdown",
      "metadata": {
        "id": "U90Kd79OjM6-"
      },
      "source": [
        "**Exercícios 06:** Módulos úteis"
      ]
    },
    {
      "cell_type": "code",
      "metadata": {
        "id": "BYCusHM3jJtz"
      },
      "source": [
        "import math\n",
        "import datetime\n",
        "import random\n",
        "import time"
      ],
      "execution_count": null,
      "outputs": []
    }
  ]
}